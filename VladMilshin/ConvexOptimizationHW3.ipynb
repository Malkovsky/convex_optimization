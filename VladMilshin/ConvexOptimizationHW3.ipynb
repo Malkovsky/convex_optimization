{
  "nbformat": 4,
  "nbformat_minor": 0,
  "metadata": {
    "colab": {
      "name": "ConvexOptimizationHW3.ipynb",
      "provenance": [],
      "collapsed_sections": []
    },
    "kernelspec": {
      "name": "python3",
      "display_name": "Python 3"
    }
  },
  "cells": [
    {
      "cell_type": "code",
      "metadata": {
        "id": "MuIzsoRk_p2s"
      },
      "source": [
        "import numpy as np\n",
        "import cvxpy as cp\n",
        "\n",
        "from copy import deepcopy\n",
        "from scipy.linalg import norm "
      ],
      "execution_count": null,
      "outputs": []
    },
    {
      "cell_type": "markdown",
      "metadata": {
        "id": "MrDP8EjNAipp"
      },
      "source": [
        "$\\textbf{Задача 1}$\n",
        "\n",
        "\n",
        "Для задачи линейного программирования минимизировать $$c^Tx$$ при условии $$Ax = b \\texttt{ и } x \\ge 0$$\n",
        "\n",
        "\\\\\n",
        "\n",
        "\n",
        "Сформулировать двойственную задачу и решить её"
      ]
    },
    {
      "cell_type": "markdown",
      "metadata": {
        "id": "xh5nZm431mq0"
      },
      "source": [
        "$\\textbf{Решение}$\n",
        "\n",
        "Пусть матрица $A$ состоит из $n$ строк (это $\\texttt{A.shape}[0]$) и $m$ (это $\\texttt{A.shape}[1]$) столбцов, тогда $b$ это столбец из $n$ строк, а $c$ и $x$ столбцы из $m$ строк.\n",
        "\n",
        "Давайте сформулируем вначале двойственную задачу:\n",
        "\n",
        "У нас есть ограничения $\\sum\\limits_{j = 1}^{j} A_{ij} x_j = b_i$, а также есть условие, что $x_i \\ge 0$.\n",
        "\n",
        "У нас каждое ограничение прямой задачи становиться переменной двойственной задачи. Поэтому у нас есть переменные $$y_1, \\dots, y_n$$ \n",
        "\n",
        "Без ограничений (потому что изначально было равенство). Хотим максимизировать (потому что в исходной задаче минимизировали) мы \n",
        "$$\\sum\\limits_{i = 1}^n y_ib_i$$\n",
        "\n",
        "Так как у нас были ограничения вида $x_i \\ge 0$ для всех $i$ и мы хотели минимизировать исходное выражение, то у нас еще есть ограничения\n",
        "$$\\sum\\limits_{i = 1}^n a_{ik}y_i \\le c_i$$\n",
        "\n",
        "Возвращаясь к матрицам, получаем, что надо минимизировать $b^Ty$ при условии $A^Ty \\le c$\n"
      ]
    },
    {
      "cell_type": "code",
      "metadata": {
        "id": "dGY7NhcV4I9P",
        "colab": {
          "base_uri": "https://localhost:8080/"
        },
        "outputId": "e656b0dc-3c40-47fd-ff5c-91897c3a5bb0"
      },
      "source": [
        "def Solve(AA, bb): # Solves Ax = b\n",
        "    A, b = deepcopy(AA), deepcopy(bb)\n",
        "    cur = 0\n",
        "    eps = 1e-6\n",
        "    x = np.zeros(A.shape[1])\n",
        "    kek = []\n",
        "    for i in range(A.shape[1]):\n",
        "        for j in range(cur, A.shape[0]):\n",
        "            if abs(A[j][i]) > eps:\n",
        "                A[j], A[cur], b[j], b[cur] = A[cur], A[j], b[cur], b[j]\n",
        "                break\n",
        "        if abs(A[cur][i]) > eps:\n",
        "            for j in range(cur + 1, A.shape[0]):\n",
        "                k = A[j][i] / A[cur][i]\n",
        "                A[j] -= A[cur] * k\n",
        "                b[j] -= b[cur] * k\n",
        "            kek.append([cur, i])\n",
        "            cur += 1\n",
        "        if cur == A.shape[0]:\n",
        "            break\n",
        "    for i in range(cur, A.shape[0]):\n",
        "        if abs(b[i]) > eps:\n",
        "            raise Exception(\"No solution\")\n",
        "    for row, col in reversed(kek):\n",
        "        for i in range(col + 1, A.shape[1]):\n",
        "            b[row] -= x[i] * A[row][i]\n",
        "        x[col] = b[row] / A[row][col]\n",
        "    return x\n",
        "\n",
        "def ConvertYToX(y, A, b, c):\n",
        "    eps = 1e-6\n",
        "    kek = A.T @ y - c\n",
        "    indices = [i for i in range(A.shape[1]) if kek[i] > -eps]\n",
        "    res = np.zeros(A.shape[1])\n",
        "    res[indices] = Solve(A[:,indices], b)    \n",
        "    return res\n",
        "\n",
        "def DualProblemUsingCP(A, b, c):\n",
        "    y = cp.Variable(A.shape[0])\n",
        "    objective = cp.Maximize(b.T @ y)\n",
        "    constraints = [A.T @ y <= c]\n",
        "    prob = cp.Problem(objective, constraints)\n",
        "    result = prob.solve()\n",
        "    return ConvertYToX(y.value, A, b, c) if y.value is not None else None"
      ],
      "execution_count": null,
      "outputs": [
        {
          "output_type": "execute_result",
          "data": {
            "text/plain": [
              "array([0. , 2.5])"
            ]
          },
          "metadata": {
            "tags": []
          },
          "execution_count": 61
        }
      ]
    },
    {
      "cell_type": "code",
      "metadata": {
        "id": "f7ME1BMfAh6w",
        "colab": {
          "base_uri": "https://localhost:8080/"
        },
        "outputId": "1fc17e0c-af56-4817-966e-015ac1233c6c"
      },
      "source": [
        "np.random.seed(0)\n",
        "\n",
        "def MinimizeUsingCP(A, b, c):\n",
        "    x = cp.Variable(A.shape[1])\n",
        "    objective = cp.Minimize(c.T @ x)\n",
        "    constraints = [x >= 0, A @ x == b]\n",
        "    prob = cp.Problem(objective, constraints)\n",
        "    result = prob.solve()\n",
        "    return x.value if x.value is not None else None\n",
        "\n",
        "def CompareSolutions(A, b, c):\n",
        "    resCorrect = MinimizeUsingCP(A, b, c)\n",
        "    if resCorrect is not None:\n",
        "        resMy = DualProblemUsingCP(A, b, c)\n",
        "        assert(norm(resCorrect - resMy) < 1e-4)\n",
        "        return True\n",
        "    return False\n",
        "\n",
        "def check(n, m, iterCount):\n",
        "    cntOk = 0\n",
        "    for i in range(iterCount):\n",
        "        A = np.random.sample((m, n))\n",
        "\n",
        "        b = np.random.sample(A.shape[0])\n",
        "        c = np.random.sample(A.shape[1])\n",
        "\n",
        "        if CompareSolutions(A, b, c):\n",
        "            cntOk += 1\n",
        "\n",
        "    A = np.array([[1., 2], [3., 6]])\n",
        "    b = np.array([5., 15])\n",
        "    c = np.array([2., 1])\n",
        "    assert(CompareSolutions(A, b, c))\n",
        "\n",
        "    print(f'ok: {cntOk}')\n",
        "\n",
        "check(10, 3, 500)"
      ],
      "execution_count": null,
      "outputs": [
        {
          "output_type": "stream",
          "text": [
            "ok: 236\n"
          ],
          "name": "stdout"
        }
      ]
    },
    {
      "cell_type": "markdown",
      "metadata": {
        "id": "S8xQKurJBF7L"
      },
      "source": [
        "$\\textbf{Задача 2}$\n",
        "\n",
        "Дан набор точек $x_1, x_2, \\dots, x_m \\in \\mathbb{R}^n$. Требуется найти шар минимального радиуса, содержащего все эти точки."
      ]
    },
    {
      "cell_type": "markdown",
      "metadata": {
        "id": "BnM--K-qNpnM"
      },
      "source": [
        "Функция расстояния выпукла, поэтому $\\texttt{dist}(p, x_i)$ выпуклые функции. Максимум из выпуклых функций это тоже выпуклая функция, поэтому $\\max\\limits_{i}{\\texttt{dist}(p, x_i)}$ тоже выпуклая функция.А минимум выпуклой функий можно искать тернарным поиском за $O(m \\log^n A)$, где $A - $ что-то типа точности с которой мы хотим найти."
      ]
    },
    {
      "cell_type": "code",
      "metadata": {
        "id": "PdGn0NUnHsbA"
      },
      "source": [
        "from copy import copy, deepcopy\n",
        "\n",
        "def CalcVal(points, curC, resC, bestRes, curD = None, curX = None):\n",
        "    if curD is not None:\n",
        "        curC[curD] = curX\n",
        "        if curD + 1 < points.shape[1]:\n",
        "            return RunTernarySearch(points, curD + 1, curC, resC, bestRes)\n",
        "    val = np.max([norm(point - curC) for point in points])\n",
        "    if bestRes is None or val < bestRes:\n",
        "        bestRes = val\n",
        "        resC = copy(curC)\n",
        "    return val, resC, bestRes\n",
        "\n",
        "def RunTernarySearch(points, curD, curC, resC, bestRes):\n",
        "    eps = 1e-2\n",
        "    l = np.min(points[:,curD])\n",
        "    r = np.max(points[:,curD])\n",
        "    while (r - l > eps):\n",
        "        m1 = (2 * l + r) / 3\n",
        "        m2 = (l + 2 * r) / 3\n",
        "        val1, resC, bestRes = CalcVal(points, curC, resC, bestRes, curD, m1)\n",
        "        val2, resC, bestRes = CalcVal(points, curC, resC, bestRes, curD, m2)\n",
        "        if val1 < val2:\n",
        "            r = m2\n",
        "        else:\n",
        "            l = m1\n",
        "    return CalcVal(points, curC, resC, bestRes, curD, l), resC, bestRes\n",
        "\n",
        "def MinSphere(points):\n",
        "    _, resC, bestRes = RunTernarySearch(points, 0, np.zeros(points.shape[1]), None, None)\n",
        "    return resC, bestRes"
      ],
      "execution_count": null,
      "outputs": []
    },
    {
      "cell_type": "code",
      "metadata": {
        "id": "MyYiHeHnAdh0"
      },
      "source": [
        "def GetСircumcircle(a, b, c):\n",
        "    (ax, ay), (bx, by), (cx, cy) = a, b, c\n",
        "    d = 2 * (ax * (by - cy) + bx * (cy - ay) + cx * (ay - by))\n",
        "    ux = ((ax * ax + ay * ay) * (by - cy) + (bx * bx + by * by) * (cy - ay) + (cx * cx + cy * cy) * (ay - by)) / d\n",
        "    uy = ((ax * ax + ay * ay) * (cx - bx) + (bx * bx + by * by) * (ax - cx) + (cx * cx + cy * cy) * (bx - ax)) / d\n",
        "    c = np.array([ux, uy])\n",
        "    r = norm(c - a)\n",
        "    return c, r\n",
        "\n",
        "def Check(points, centre, rad, is2D=False):\n",
        "    eps = 1e-3\n",
        "    for point in points:\n",
        "        if np.dot(point - centre, point - centre) > rad + eps:\n",
        "            return False\n",
        "    if is2D:\n",
        "        bestRad = None\n",
        "        for i in range(len(points)):\n",
        "            for j in range(i):\n",
        "                for k in range(j):\n",
        "                    circumcircleCentre, circumcircleRad = GetСircumcircle(points[i], points[j], points[k])\n",
        "                    ok = True\n",
        "                    for point in points:\n",
        "                        if norm(point - circumcircleCentre) > circumcircleRad + eps:\n",
        "                            ok = False\n",
        "                            break\n",
        "                    if ok and (bestRad is None or bestRad > circumcircleRad):\n",
        "                        bestRad = circumcircleRad\n",
        "        for i in range(len(points)):\n",
        "            for j in range(i):\n",
        "                circumcircleCentre, circumcircleRad = (points[i] + points[j]) / 2, norm((points[i] - points[j]) / 2)\n",
        "                ok = True\n",
        "                for point in points:\n",
        "                    if norm(point - circumcircleCentre) > circumcircleRad + eps:\n",
        "                        ok = False\n",
        "                        break\n",
        "                if ok and (bestRad is None or bestRad > circumcircleRad):\n",
        "                    bestRad = circumcircleRad\n",
        "        return abs(bestRad - rad) < eps\n",
        "    return True"
      ],
      "execution_count": null,
      "outputs": []
    },
    {
      "cell_type": "code",
      "metadata": {
        "colab": {
          "base_uri": "https://localhost:8080/"
        },
        "id": "LUmgCc1yI6Uj",
        "outputId": "efd9857d-ca65-49b3-e776-8d2699c02dab"
      },
      "source": [
        "np.random.seed(1)\n",
        "\n",
        "def CheckSolution(iterCount, m, n):\n",
        "    points = np.array([np.random.sample(n) for i in range(m)])\n",
        "    c, r = MinSphere(points)\n",
        "    if not Check(points, c, r, n == 2):\n",
        "        return False\n",
        "    return True\n",
        "\n",
        "for i in range(2, 6):\n",
        "    print(i, CheckSolution(1, 2 * i + 2, i))\n"
      ],
      "execution_count": null,
      "outputs": [
        {
          "output_type": "stream",
          "text": [
            "2 True\n",
            "3 True\n",
            "4 True\n",
            "5 True\n"
          ],
          "name": "stdout"
        }
      ]
    },
    {
      "cell_type": "markdown",
      "metadata": {
        "id": "0gB5t2N6jZYn"
      },
      "source": [
        "Работает полгода почему-то на 12 точках в размерности 5 (видимо, там пятая степень дает о себе знать), но надеюсь сойдет"
      ]
    },
    {
      "cell_type": "markdown",
      "metadata": {
        "id": "wzFQgPhMBhrI"
      },
      "source": [
        "$\\textbf{Задача 3}$\n",
        "\n",
        "$\\texttt{SVM}:$ Дан набор точек $x1, x2, \\dots, x_m \\in \\mathbb{R}$ и пометки $y_1, y_2, \\dots, y_m \\in \\{0, 1\\}$. Требуется найти такой вектор $a$, что величина $$\\max\\limits_{y_i = 1}a^Tx_i - \\min\\limits_{y_i = 0}a^Tx_i$$ максимальна"
      ]
    },
    {
      "cell_type": "code",
      "metadata": {
        "id": "04QatZ_UCUHu"
      },
      "source": [
        "def GetA(points, marks):\n",
        "    a = cp.Variable(points.shape[1])\n",
        "    d1 = cp.Variable(1)\n",
        "    d2 = cp.Variable(1)\n",
        "    objective = cp.Maximize(d1 - d2)\n",
        "    constraints = [a @ p >= d1 for i, p in enumerate(points) if marks[i] == 1] + [a @ p <= d2 for i, p in enumerate(points) if marks[i] == 0] + [cp.sum_squares(a) <= 1]\n",
        "    prob = cp.Problem(objective, constraints)\n",
        "    result = prob.solve()\n",
        "    print(d1.value, max([a.value @ p for i, p in enumerate(points) if marks[i] == 1]))\n",
        "    print(d2.value, min([a.value @ p for i, p in enumerate(points) if marks[i] == 0]))\n",
        "    return a.value"
      ],
      "execution_count": null,
      "outputs": []
    },
    {
      "cell_type": "code",
      "metadata": {
        "id": "6vuWr0SgmNkQ"
      },
      "source": [
        "import matplotlib.pyplot as plt\n",
        "\n",
        "def check(m, n, iterCount):\n",
        "    for iter in range(iterCount):\n",
        "        a = np.random.sample(n)\n",
        "        a /= norm(a)\n",
        "\n",
        "        # print(a)\n",
        "    \n",
        "        points = []\n",
        "        marks = []\n",
        "        l = -np.random.sample(1)[0]\n",
        "        r = np.random.sample(1)[0]\n",
        "\n",
        "\n",
        "        for i in range(2):\n",
        "            p1 = np.random.sample(n)\n",
        "            if p1 @ a > 0:\n",
        "                p1 *= -1\n",
        "            points.append(p1 * (l / (p1 @ a)))\n",
        "            marks.append(0)\n",
        "\n",
        "        for i in range(2):\n",
        "            p2 = np.random.sample(n) * 2 - 1\n",
        "            if p2 @ a < 0:\n",
        "                p2 *= -1\n",
        "            points.append(p2 * (r / (p2 @ a)))\n",
        "            marks.append(1)\n",
        "\n",
        "        for i in range(m - 4):\n",
        "            p = np.random.sample(n) * 2 - 1\n",
        "            val = p @ a\n",
        "            if val < 0:\n",
        "                if val < l:\n",
        "                    points.append(p)\n",
        "                else:\n",
        "                    points.append(p * (l / val + np.random.sample(1)[0]))\n",
        "                marks.append(0)\n",
        "            else:\n",
        "                if val > r:\n",
        "                    points.append(p)\n",
        "                else:\n",
        "                    points.append(p * (r / val + np.random.sample(1)[0]))\n",
        "                marks.append(1)\n",
        "        \n",
        "        points = np.array(points)\n",
        "        marks = np.array(marks)\n",
        "\n",
        "        mya = GetA(points, marks)\n",
        "\n",
        "        if n == 2:\n",
        "            fig, ax = plt.subplots(figsize=[7, 7])\n",
        "\n",
        "            x = points\n",
        "            y = marks\n",
        "\n",
        "            ax.scatter(x[y > 0,0], x[y > 0,1], color='red')\n",
        "            ax.scatter(x[y == 0,0], x[y == 0,1], color='blue')\n",
        "\n",
        "            #Level contours\n",
        "            delta = 0.025\n",
        "            x_ = np.arange(np.min(points[:,0]) - 1, np.max(points[:,0]) + 1, delta)\n",
        "            y_ = np.arange(np.min(points[:,1]) - 1, np.max(points[:,1]) + 1, delta)\n",
        "            X, Y = np.meshgrid(x_, y_)\n",
        "            Z = np.zeros_like(X)\n",
        "            for i in range(X.shape[0]):\n",
        "                for j in range(X.shape[1]):\n",
        "                    Z[i][j] = mya @ np.array([X[i][j], Y[i][j]])\n",
        "            CS = ax.contour(X, Y, Z, [0], colors=['black'])\n",
        "\n",
        "        assert(norm(mya - a) < 1e-2)\n",
        "        "
      ],
      "execution_count": null,
      "outputs": []
    },
    {
      "cell_type": "code",
      "metadata": {
        "colab": {
          "base_uri": "https://localhost:8080/",
          "height": 700
        },
        "id": "Agbe4fX6mnyz",
        "outputId": "1e3a694f-6f4d-4107-811e-e172076893ed"
      },
      "source": [
        "np.random.seed(2)\n",
        "\n",
        "for n in range(2, 10):\n",
        "    check(500, n, 1)"
      ],
      "execution_count": null,
      "outputs": [
        {
          "output_type": "stream",
          "text": [
            "[0.43532438] 1.0347841205503059\n",
            "[-0.54967225] -1.0248963863399156\n",
            "[0.11314479] 1.4468218083425277\n",
            "[-0.71874166] -1.4858493678362041\n",
            "[0.7942526] 1.5212541364390402\n",
            "[-0.82366267] -1.5362081387751236\n",
            "[0.23178731] 1.4744900711114317\n",
            "[-0.92559761] -1.8016191973717812\n",
            "[0.65612731] 1.593836172887726\n",
            "[-0.82093323] -1.6535982145054693\n",
            "[0.80173795] 1.4536935034144063\n",
            "[-0.57098032] -1.4208177190128044\n",
            "[0.83732867] 1.7161520739799525\n",
            "[-0.08142528] -1.7579037400952597\n",
            "[0.35981286] 1.6418190800881196\n",
            "[-0.31020448] -1.9154420327560537\n"
          ],
          "name": "stdout"
        },
        {
          "output_type": "display_data",
          "data": {
            "image/png": "[encoded data removed]",
            "text/plain": [
              "<Figure size 504x504 with 1 Axes>"
            ]
          },
          "metadata": {
            "tags": [],
            "needs_background": "light"
          }
        }
      ]
    },
    {
      "cell_type": "code",
      "metadata": {
        "id": "fRboxhD6be5z"
      },
      "source": [
        ""
      ],
      "execution_count": null,
      "outputs": []
    }
  ]
}