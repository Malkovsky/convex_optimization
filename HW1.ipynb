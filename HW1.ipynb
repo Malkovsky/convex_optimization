{
  "nbformat": 4,
  "nbformat_minor": 0,
  "metadata": {
    "colab": {
      "name": "Выпуклая оптимизация, домашнее задание 1",
      "provenance": [],
      "collapsed_sections": [
        "7fCdfKrz_Nb1",
        "ikzo9H_b_wLR",
        "WybIYbo9_yVE"
      ],
      "toc_visible": true
    },
    "kernelspec": {
      "name": "python3",
      "display_name": "Python 3"
    }
  },
  "cells": [
    {
      "cell_type": "markdown",
      "metadata": {
        "id": "TkAUC5AowUhn",
        "colab_type": "text"
      },
      "source": [
        "### Задание 1"
      ]
    },
    {
      "cell_type": "markdown",
      "metadata": {
        "id": "F7Mnsq_gw29P",
        "colab_type": "text"
      },
      "source": [
        "\n",
        "\n",
        "#### 1a. Найти $\\sqrt[k]{a}$ помощью метода бисекции."
      ]
    },
    {
      "cell_type": "code",
      "metadata": {
        "id": "RfXJxbBYwy0V",
        "colab_type": "code",
        "colab": {
          "base_uri": "https://localhost:8080/",
          "height": 68
        },
        "outputId": "88888038-dbf9-4ece-bcd1-95cd8da38cf2"
      },
      "source": [
        "def bin_search(f, l, r):\n",
        "  while r - l > 1e-15:\n",
        "    m = (l + r) / 2\n",
        "    if f(m) > 0:\n",
        "      r = m\n",
        "    else:\n",
        "      l = m\n",
        "  return l\n",
        "\n",
        "def root1(k: float, a: float):\n",
        "  assert a > 0\n",
        "  assert k > 0\n",
        "\n",
        "  l, r = 0, 100\n",
        "  while r ** k < a:\n",
        "    r *= 100\n",
        "  \n",
        "  return bin_search(lambda x : x ** k - a, l, r)\n",
        "\n",
        "print(root1(2, 4))\n",
        "print(root1(3, 27))\n",
        "print(root1(1, 7))"
      ],
      "execution_count": 2,
      "outputs": [
        {
          "output_type": "stream",
          "text": [
            "1.9999999999999998\n",
            "3.0\n",
            "7.0\n"
          ],
          "name": "stdout"
        }
      ]
    },
    {
      "cell_type": "markdown",
      "metadata": {
        "id": "WzfQcmPWwyGz",
        "colab_type": "text"
      },
      "source": [
        "\n",
        "\n",
        "#### 1b. Найти $\\sqrt[k]{a}$ помощью метода Ньютона.\n",
        "\n",
        "$f(x) = x^k - a$\n",
        "\n",
        "$x_{n + 1} = x_n + \\frac{x_n^k - a}{k \\cdot x_n^{k-1}}$\n",
        "\n"
      ]
    },
    {
      "cell_type": "code",
      "metadata": {
        "id": "duGQ7iqNzoGP",
        "colab_type": "code",
        "colab": {
          "base_uri": "https://localhost:8080/",
          "height": 68
        },
        "outputId": "6608acf2-5ba2-46b4-f731-d40173af6f66"
      },
      "source": [
        "def root2(k: float, a: float, iterations=1000):\n",
        "    x = a\n",
        "    for _ in range(iterations):\n",
        "        x -= (x**k - a) / (k * x**(k - 1))\n",
        "\n",
        "    return x\n",
        "\n",
        "print(root2(2, 4))\n",
        "print(root2(3, 27))\n",
        "print(root2(1, 7))"
      ],
      "execution_count": 11,
      "outputs": [
        {
          "output_type": "stream",
          "text": [
            "2.0\n",
            "3.0\n",
            "7.0\n"
          ],
          "name": "stdout"
        }
      ]
    },
    {
      "cell_type": "markdown",
      "metadata": {
        "id": "fcgsmpnu-pac",
        "colab_type": "text"
      },
      "source": [
        "### Задание 2"
      ]
    },
    {
      "cell_type": "markdown",
      "metadata": {
        "id": "-_nZfUX8-7tB",
        "colab_type": "text"
      },
      "source": [
        "#### 2b. Дан многочлен P степени не больше 5 и отрезок [L; R]. \n",
        "\n",
        "Для каждого $[L_i; R_i]$ найти соответствующий корень."
      ]
    },
    {
      "cell_type": "code",
      "metadata": {
        "id": "J9OjLKq7_L74",
        "colab_type": "code",
        "colab": {
          "base_uri": "https://localhost:8080/",
          "height": 34
        },
        "outputId": "02d1af3d-41e1-4347-8ed2-56e4e328ddd8"
      },
      "source": [
        "def find_roots_by_segments(a, b, c, d, e, f, segments):\n",
        "  \"\"\"Finds a*x^5 + b*x^4 + c*x^3 + d*x^2 + e*x + f roots using binary search\"\"\"\n",
        "  def func(x):\n",
        "    return a * x**5 + b * x**4 + c * x**3 + d * x**2 + e * x + f\n",
        "\n",
        "  roots = []\n",
        "  for (l, r) in segments:\n",
        "    while r - l > 1e-15:\n",
        "      m = (l + r) / 2\n",
        "      if func(m) * func(l) <= 0:\n",
        "        r = m\n",
        "      else:\n",
        "        l = m\n",
        "    roots.append(l)\n",
        "  return roots\n",
        "\n",
        "# roots: -1, 0, 1\n",
        "print(find_roots_by_segments(0, 0, 1, 0, -1, 0, [(-1.5, -0.5), (-0.3, 0.3), (0.5, 1.5)]))"
      ],
      "execution_count": 4,
      "outputs": [
        {
          "output_type": "stream",
          "text": [
            "[-1.0000000000000009, -5.329070518200751e-16, 0.9999999999999991]\n"
          ],
          "name": "stdout"
        }
      ]
    },
    {
      "cell_type": "markdown",
      "metadata": {
        "id": "DmeaH2i--sjk",
        "colab_type": "text"
      },
      "source": [
        "#### 2a. Дан многочлен P степени не больше 5 и отрезок [L; R]. \n",
        "Локализовать корни P, т.е. найти непересекающиеся отрезки $[L_1; R_1], . . . , [L_m; R_m]$\n",
        "такие, что $P(L_i)P(R_i) < 0$."
      ]
    },
    {
      "cell_type": "code",
      "metadata": {
        "id": "yPARNd7J-4Kn",
        "colab_type": "code",
        "colab": {
          "base_uri": "https://localhost:8080/",
          "height": 122
        },
        "outputId": "9f273891-4fd6-458c-cd82-8f0456bf9058"
      },
      "source": [
        "def find_segments(a, b, c, d, e, f, L, R):\n",
        "  \"\"\"Returns list of segments with localized roots for\n",
        "   a*x^5 + b*x^4 + c*x^3 + d*x^2 + e*x + f on [L, R)\"\"\"\n",
        "\n",
        "  def func(x):\n",
        "    return a * x**5 + b * x**4 + c * x**3 + d * x**2 + e * x + f\n",
        "\n",
        "  if a == 0 and b == 0 and c == 0 and d == 0:\n",
        "      # Function e * x + f\n",
        "      if (e * L + f) * (e * R + f) < 0 or e * L + f == 0:\n",
        "        return [(L, R)]\n",
        "      else:\n",
        "        return []\n",
        "\n",
        "  # Find derivative roots.\n",
        "  der_segments = find_segments(0, 5 * a, 4 * b, 3 * c, 2 * d, e, L, R)\n",
        "  der_roots = find_roots_by_segments(0, 5 * a, 4 * b, 3 * c, 2 * d, e, der_segments)\n",
        "\n",
        "  der_roots.insert(0, L)\n",
        "  der_roots.append(R)\n",
        "  # All segments between derivative roots.  \n",
        "  some_segments = list(zip(der_roots, der_roots[1:]))\n",
        "\n",
        "  # Return only segments with root between.\n",
        "  eps = 1e-15\n",
        "  segments = []\n",
        "  for (l, r) in some_segments:\n",
        "    if func(l) * func(r) < 0 and abs(func(l)) > eps and abs(func(r)) > eps:\n",
        "      segments.append((l, r))\n",
        "    if abs(func(l)) < eps:\n",
        "      segments.append((l, l))\n",
        "  return segments\n",
        "\n",
        "print(find_segments(1, 0, -5, 0, 4, 0, -10, 10))  # roots: -2, -1, 0, 1, 2\n",
        "print()\n",
        "\n",
        "\n",
        "\n",
        "def find_roots(a, b, c, d, e, f, L, R):\n",
        "  \"\"\"Returns list of all a * x** + b * x**4 + c * x**3 + d * x**2 + e * x  + f in [L, R)\"\"\"\n",
        "  return find_roots_by_segments(a, b, c, d, e, f, find_segments(a, b, c, d, e, f, L, R))\n",
        "\n",
        "print(find_roots(1, 0, -5, 0, 4, 0, -10, 10))    # roots -2, -1, 0, 1, 2\n",
        "print(find_roots(1, 0, -5, 0, 4, 0, -1.1, 1.1))  # roots -1, 0, 1\n",
        "print(find_roots(0, 1, 0, 0, 0, 0, -10, 10))     # roots 0"
      ],
      "execution_count": 5,
      "outputs": [
        {
          "output_type": "stream",
          "text": [
            "[(-10, -1.6444328681582694), (-1.6444328681582694, -0.5439122559023383), (-0.5439122559023383, 0.5439122559023378), (0.5439122559023378, 1.644432868158268), (1.644432868158268, 10)]\n",
            "\n",
            "[-2.000000000000001, -1.0000000000000002, -2.220446049250313e-16, 0.9999999999999998, 1.9999999999999998]\n",
            "[-1.0000000000000009, -6.106226635438361e-16, 0.999999999999999]\n",
            "[-5.551115123125783e-16]\n"
          ],
          "name": "stdout"
        }
      ]
    },
    {
      "cell_type": "markdown",
      "metadata": {
        "id": "7fCdfKrz_Nb1",
        "colab_type": "text"
      },
      "source": [
        "#### 2c. Дан многочлен P степени не больше 5 и отрезок [L; R].\n",
        "\n",
        "Найти глобальный минимум P на отрезке $[L; R]$."
      ]
    },
    {
      "cell_type": "code",
      "metadata": {
        "id": "vgGb0Rzm_XzY",
        "colab_type": "code",
        "colab": {
          "base_uri": "https://localhost:8080/",
          "height": 68
        },
        "outputId": "a19867e9-b163-4828-b0ba-1582ff48c448"
      },
      "source": [
        "def find_global_minimum(a, b, c, d, e, f, L, R):\n",
        "  \"\"\"Returns global minimum for a * x**5 + b * x**4 + c * x**3 + d * x**2 + e * x + f\"\"\"\n",
        "\n",
        "  def func(x):\n",
        "    return a * x**5 + b * x**4 + c * x**3 + d * x**2 + e * x + f\n",
        "  \n",
        "  # Find derivative roots.\n",
        "  roots = find_roots(0, 5 * a, 4 * b, 3 * c, 2 * d, e, L, R)\n",
        "\n",
        "  return min([func(root) for root in roots + [L, R]])\n",
        "\n",
        "print(find_global_minimum(1, -1, -5, -3, 1, 1, -2, 4))  # minimum -37.029\n",
        "print(find_global_minimum(1, 0, 0, 0, 0, 0, -2, 4))     # minimum -32\n",
        "print(find_global_minimum(0, 1, 0, 0, 0, 0, -2, 4))     # minimum 0"
      ],
      "execution_count": 6,
      "outputs": [
        {
          "output_type": "stream",
          "text": [
            "-37.02948688415573\n",
            "-32\n",
            "3.8893845486632136e-62\n"
          ],
          "name": "stdout"
        }
      ]
    },
    {
      "cell_type": "markdown",
      "metadata": {
        "id": "xwp0HUg5_c4K",
        "colab_type": "text"
      },
      "source": [
        "### Задание 3"
      ]
    },
    {
      "cell_type": "markdown",
      "metadata": {
        "id": "ikzo9H_b_wLR",
        "colab_type": "text"
      },
      "source": [
        "#### 3a. При a, b, c > 0 найти минимум функции $e^{ax} + e^{−bx} + c(x − d)^2$ с использованием метода бисекции.\n",
        "\n",
        "$(e^{ax} + e^{−bx} + c(x − d)^2)' = ae^{ax} - be^{-bx} + 2c(x - d)$ - докажем, что есть ровно один корень.\n",
        "\n",
        "В $x \\rightarrow +\\infty$ функция $+\\infty$, в $x \\rightarrow -\\infty$ функция $-\\infty$. \n",
        "\n",
        "$(ae^{ax} - be^{-bx} + 2c(x - d))' = a^2e^{ax} + b^2e^{-bx} + 2c > 0$, а значит у $ae^{ax} - be^{-bx} + 2c(x - d)$ ровно один корень. Значит изначальная функция $e^{ax} + e^{−bx} + c(x − d)^2$ сначала убывает, затем возрастает; ее минимум --- в корне функции $ae^{ax} - be^{-bx} + 2c(x - d)$. Тогда можно применить метод бисекции к $ae^{ax} - be^{-bx} + 2c(x - d)$."
      ]
    },
    {
      "cell_type": "code",
      "metadata": {
        "id": "bj9DKqjA_xL-",
        "colab_type": "code",
        "colab": {
          "base_uri": "https://localhost:8080/",
          "height": 34
        },
        "outputId": "b19ac60d-6e1d-47ec-a39f-c8f0b8100616"
      },
      "source": [
        "import math\n",
        "\n",
        "def find_root1(a, b, c, d):\n",
        "  assert a > 0 and b > 0 and c > 0\n",
        "\n",
        "  def f(x):\n",
        "    return a * math.e ** (a * x) - b * math.e ** (-b * x) + 2 * c * (x - d)\n",
        "  \n",
        "  l, r = -2, 2\n",
        "  while f(l) > 0:\n",
        "    l *= 2\n",
        "  while f(r) < 0:\n",
        "    r *= 2\n",
        "\n",
        "  x = bin_search(f, l, r)\n",
        "  return x, math.e ** (a * x) + math.e ** (-b * x) + c * (x - d) ** 2\n",
        "\n",
        "print(find_root1(1, 1, 1, 1))  # minimum - 2.505 in x = 0.49"
      ],
      "execution_count": 9,
      "outputs": [
        {
          "output_type": "stream",
          "text": [
            "(0.4900730684805472, 2.505042602807782)\n"
          ],
          "name": "stdout"
        }
      ]
    },
    {
      "cell_type": "markdown",
      "metadata": {
        "id": "DRkd7ngh_xfe",
        "colab_type": "text"
      },
      "source": [
        "#### 3b. При a, b, c > 0 найти минимум функции $e^{ax} + e^{−bx} + c(x − d)^2$ с использованием метода Ньютона.\n",
        "\n",
        "Найдем ноль производной исходной функции: $ae^{ax} - be^{-bx} + 2c(x - d) = f(x)$\n",
        "\n",
        "$x_{n+1} = x_n - \\frac{ae^{ax} - be^{-bx} + 2c(x - d)}{a^2e^{ax} + b^2e^{-bx} + 2c}$"
      ]
    },
    {
      "cell_type": "code",
      "metadata": {
        "id": "_85HU0lI_xwU",
        "colab_type": "code",
        "colab": {
          "base_uri": "https://localhost:8080/",
          "height": 34
        },
        "outputId": "a8b4a22d-7e87-4f28-c6d1-2e5c812e8c80"
      },
      "source": [
        "def find_root2(a, b, c, d, iteration_n=1000):\n",
        "    x = 0\n",
        "    for _ in range(iteration_n):\n",
        "        x -= (a * math.e**(a * x) - b * math.e**(-b * x) + 2 * c * (x - d)) /\\\n",
        "             (a**2 * math.e**(a * x) + b**2 * math.e**(-b * x) + 2 * c)\n",
        "    return x, math.e ** (a * x) + math.e ** (-b * x) + c * (x - d) ** 2\n",
        "\n",
        "print(find_root2(1, 1, 1, 1))  # minimum - 2.505 in x = 0.49"
      ],
      "execution_count": 8,
      "outputs": [
        {
          "output_type": "stream",
          "text": [
            "(0.4900730684805477, 2.505042602807782)\n"
          ],
          "name": "stdout"
        }
      ]
    },
    {
      "cell_type": "markdown",
      "metadata": {
        "id": "WybIYbo9_yVE",
        "colab_type": "text"
      },
      "source": [
        "#### 3c. При a, b, c > 0 найти минимум функции $e^{ax} + e^{−bx} + c(x − d)^2$ с использованием тернарного поиска.\n",
        "\n",
        "В задании 3a мы поняли, что $e^{ax} + e^{−bx} + c(x − d)^2$ сначала возрастает, а потом убывает. Тогда можно использовать тернарный поиск."
      ]
    },
    {
      "cell_type": "code",
      "metadata": {
        "id": "ItSBTHew_yoh",
        "colab_type": "code",
        "colab": {
          "base_uri": "https://localhost:8080/",
          "height": 34
        },
        "outputId": "e1e7c47e-93ed-4f6b-f0d9-7fa7f630cdb6"
      },
      "source": [
        "def find_root3(a, b, c, d):\n",
        "  assert a > 0 and b > 0 and c > 0\n",
        "\n",
        "  def f_der(x):\n",
        "    return a * math.e ** (a * x) - b * math.e ** (-b * x) + 2 * c * (x - d)\n",
        "  \n",
        "  def f(x):\n",
        "    return math.e ** (a * x) + math.e ** (-b * x) + c * (x - d) ** 2\n",
        "  \n",
        "  l, r = -2, 2\n",
        "  while f_der(l) > 0:\n",
        "    l *= 2\n",
        "  while f_der(r) < 0:\n",
        "    r *= 2\n",
        "\n",
        "  while r - l > 1e-15:\n",
        "    m1 = (2 * l + r) / 3\n",
        "    m2 = (l + 2 * r) / 3\n",
        "    if f(m1) < f(m2):\n",
        "      r = m2\n",
        "    else:\n",
        "      l = m1\n",
        "  return l, f(l)\n",
        "\n",
        "print(find_root3(1, 1, 1, 1))"
      ],
      "execution_count": null,
      "outputs": [
        {
          "output_type": "stream",
          "text": [
            "(0.4900730781563903, 2.5050426028077823)\n"
          ],
          "name": "stdout"
        }
      ]
    },
    {
      "cell_type": "code",
      "metadata": {
        "id": "fJ-WExdSzvUP",
        "colab_type": "code",
        "colab": {}
      },
      "source": [
        ""
      ],
      "execution_count": null,
      "outputs": []
    }
  ]
}