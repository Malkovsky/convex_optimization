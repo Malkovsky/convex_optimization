{
 "cells": [
  {
   "cell_type": "markdown",
   "metadata": {},
   "source": [
    "## hw1"
   ]
  },
  {
   "cell_type": "markdown",
   "metadata": {},
   "source": [
    "1. Вычислить $\\sqrt[k] a $\n",
    "\n",
    "    * С помощью метода бисекции.\n",
    "    * C помощью метода Ньютона."
   ]
  },
  {
   "cell_type": "markdown",
   "metadata": {},
   "source": [
    "1. С помощью метода бисекции."
   ]
  },
  {
   "cell_type": "code",
   "execution_count": 1,
   "metadata": {},
   "outputs": [],
   "source": [
    "import matplotlib.pyplot as plt\n",
    "plt.rcParams[\"figure.figsize\"] = (8, 8)"
   ]
  },
  {
   "cell_type": "code",
   "execution_count": 2,
   "metadata": {},
   "outputs": [],
   "source": [
    "k = 10\n",
    "\n",
    "a = 1024\n",
    "\n",
    "def f(x):\n",
    "    return x**k - a\n",
    "\n",
    "def bisection(g, a, b, num_iters=10):\n",
    "    states = []\n",
    "    left = a\n",
    "    right = b\n",
    "    for i in range(num_iters):\n",
    "        mid = (left + right) / 2\n",
    "        if g(left) * g(mid) < 0:\n",
    "            right = mid\n",
    "        else:\n",
    "            left = mid\n",
    "        states.append(right)\n",
    "    return states[-1], states"
   ]
  },
  {
   "cell_type": "code",
   "execution_count": 3,
   "metadata": {},
   "outputs": [
    {
     "data": {
      "image/png": "[encoded data removed]",
      "text/plain": [
       "<Figure size 576x576 with 1 Axes>"
      ]
     },
     "metadata": {
      "needs_background": "light"
     },
     "output_type": "display_data"
    }
   ],
   "source": [
    "root, estimates = bisection(f, 1e-100, 30, 20)\n",
    "plt.plot([i for i in range(len(estimates))], [x - a ** (1/float(k)) for x in estimates])\n",
    "plt.xlabel('Step')\n",
    "plt.ylabel('Error')\n",
    "plt.show()"
   ]
  },
  {
   "cell_type": "markdown",
   "metadata": {},
   "source": [
    "2. C помощью метода Ньютона."
   ]
  },
  {
   "cell_type": "markdown",
   "metadata": {},
   "source": [
    "возьмем последовательность $x_{n + 1} = \\frac{1}{k}((k - 1)\\cdot x_n + \\frac{a}{x_n^{k -1}})$\n",
    "ee производная в $x = \\sqrt[k] a$ равна 0 и $x_k$ возрастает на $(0, \\sqrt[k] a)$ и убывает на $(\\sqrt[k] a, +\\infty)$ т.е сходится к $\\sqrt[k] a$ при $x_0 > 0$ + функция непрерывна на $(0, +\\infty)$ а значит непрерывна по Липшицу на любом замкнутом отрезке т.е с какого-то момента будет квадратичная сходимость"
   ]
  },
  {
   "cell_type": "code",
   "execution_count": 4,
   "metadata": {},
   "outputs": [
    {
     "data": {
      "image/png": "[encoded data removed]",
      "text/plain": [
       "<Figure size 576x576 with 1 Axes>"
      ]
     },
     "metadata": {
      "needs_background": "light"
     },
     "output_type": "display_data"
    }
   ],
   "source": [
    "def newton_sqrt(a, iters=10):\n",
    "    sequence = [a]\n",
    "    for i in range(iters):\n",
    "        sequence.append((1/float(k)) * ((k - 1) * sequence[-1] + a / (sequence[-1] ** (k - 1))))\n",
    "    return sequence[-1], sequence\n",
    "\n",
    "root, estimates = newton_sqrt(a, 100)\n",
    "plt.plot([i for i in range(len(estimates))], [x - a ** (1/float(k)) for x in estimates])\n",
    "plt.xlabel('Step')\n",
    "plt.ylabel('Error')\n",
    "plt.show()"
   ]
  },
  {
   "cell_type": "markdown",
   "metadata": {},
   "source": [
    "2. Дан многочлен P степени не больше 5 и отрезок [L; R], пара.\n",
    " * Локализоватькорни P,т.е. найти не пересекающиеся отрезки $[L_1;R_1],...,[L_m;R_m]$ такие, что $P(L_i) \\cdot P(R_i) < 0$.\n",
    " * Для каждого $[L_i; R_i]$ найти соответствующий корень. \n",
    " * Найти глобальный минимум P на отрезке [L; R]."
   ]
  },
  {
   "cell_type": "markdown",
   "metadata": {},
   "source": [
    "1 + 2"
   ]
  },
  {
   "cell_type": "code",
   "execution_count": 5,
   "metadata": {},
   "outputs": [],
   "source": [
    "# многочлен записан как коэф в обратном порядке, т.е p[0] - n'ый коэф, если многочлен нулевой то он должен быть записан как [0]\n",
    "\n",
    "L = -10\n",
    "R = 10\n",
    "\n",
    "def getFuncFromPoly(p):\n",
    "    return (lambda x: sum([(k * (x ** (len(p) - 1 - i))) for i,k in enumerate(p)]))\n",
    "\n",
    "def check(p, l, r):\n",
    "    g = getFuncFromPoly(p)\n",
    "    return (g(l) * g(r)) <= 0\n",
    "\n",
    "def getRootIntervals(p):\n",
    "    if (len(p) == 1):\n",
    "        return []\n",
    "    elif (len(p) == 2):\n",
    "        return [(-p[1]/p[0]) - 1, (-p[1]/p[0]) + 1]\n",
    "    \n",
    "    d = p[:-1].copy()\n",
    "    for i in range(len(d)):\n",
    "        indx = len(p) - 1 - i\n",
    "        d[i] *= indx\n",
    "    roots = getRoots(d)\n",
    "    ans = list()\n",
    "    if check(p, L, roots[0]):\n",
    "        ans.append((L, roots[0]))\n",
    "    for i in range(len(roots) - 1):\n",
    "        if check(p, roots[i], roots[i + 1]):\n",
    "            ans.append((roots[i], roots[i + 1]))\n",
    "    if check(p, roots[-1], R):\n",
    "        ans.append((roots[-1], R))\n",
    "    return ans\n",
    "    \n",
    "def getRoots(p):\n",
    "    if (len(p) == 1):\n",
    "        return []\n",
    "    elif (len(p) == 2):\n",
    "        return [-1 * p[1]/p[0]]\n",
    "    \n",
    "    roots = []\n",
    "    intervals = getRootIntervals(p)\n",
    "    for i,(l,r) in enumerate(intervals):\n",
    "        g = getFuncFromPoly(p)\n",
    "        if (i == len(intervals) and g(r) == 0):\n",
    "            roots.append(r)\n",
    "        elif (i != len(intervals) and g(l)) == 0:\n",
    "            roots.append(l)\n",
    "        else:\n",
    "            root, _ = bisection(getFuncFromPoly(p), l, r, 20)\n",
    "            roots.append(root)\n",
    "    return roots"
   ]
  },
  {
   "cell_type": "code",
   "execution_count": 6,
   "metadata": {},
   "outputs": [
    {
     "name": "stdout",
     "output_type": "stream",
     "text": [
      "[-1.6180286407470703, 0.6180362701416016] [] [1.0, 1.0]\n"
     ]
    }
   ],
   "source": [
    "print(getRoots([1,1,-1]), getRoots([1,1,1]), getRoots([1,-2,1]))"
   ]
  },
  {
   "cell_type": "markdown",
   "metadata": {},
   "source": [
    "3"
   ]
  },
  {
   "cell_type": "code",
   "execution_count": 7,
   "metadata": {},
   "outputs": [],
   "source": [
    "def findMax(p):\n",
    "    d = p[:-1].copy()\n",
    "    for i in range(len(d)):\n",
    "        indx = len(p) - 1 - i\n",
    "        d[i] *= indx\n",
    "    roots = getRoots(d)\n",
    "    vals = map(getFuncFromPoly(p), roots + [L, R])\n",
    "    return max(vals)"
   ]
  },
  {
   "cell_type": "code",
   "execution_count": 8,
   "metadata": {},
   "outputs": [
    {
     "data": {
      "text/plain": [
       "109"
      ]
     },
     "execution_count": 8,
     "metadata": {},
     "output_type": "execute_result"
    }
   ],
   "source": [
    "findMax([1,1,-1])"
   ]
  },
  {
   "cell_type": "markdown",
   "metadata": {},
   "source": [
    "3. При $a,b,c > 0$ найти минимум функции $e^{ax} +e^{−bx} +c\\cdot (x−d)^2$\n",
    "    * С использованием метода бисекции. \n",
    "    * C использованием метода Ньютона. \n",
    "    * С использованием тернарного поиска."
   ]
  },
  {
   "cell_type": "markdown",
   "metadata": {},
   "source": [
    "1. С использованием метода бисекции."
   ]
  },
  {
   "cell_type": "code",
   "execution_count": 9,
   "metadata": {},
   "outputs": [
    {
     "data": {
      "text/plain": [
       "0.49008655548095703"
      ]
     },
     "execution_count": 9,
     "metadata": {},
     "output_type": "execute_result"
    }
   ],
   "source": [
    "import math\n",
    "\n",
    "a = 1\n",
    "b = 1\n",
    "c = 1\n",
    "d = 1\n",
    "def h(x):\n",
    "    return a * math.exp(a * x) - b * math.exp(-1 * b * x) + c * 2 * (x - d)\n",
    "\n",
    "tmp = (math.log(b) - math.log(a))/(a + b)\n",
    "\n",
    "l = min(d, tmp) - 10\n",
    "r = max(d, tmp) + 10\n",
    "\n",
    "root, _ = bisection(h, l, r, 20)\n",
    "root"
   ]
  },
  {
   "cell_type": "markdown",
   "metadata": {},
   "source": [
    "2. C использованием метода Ньютона."
   ]
  },
  {
   "cell_type": "code",
   "execution_count": 10,
   "metadata": {},
   "outputs": [
    {
     "data": {
      "text/plain": [
       "0.4900730684805478"
      ]
     },
     "execution_count": 10,
     "metadata": {},
     "output_type": "execute_result"
    }
   ],
   "source": [
    "def j(x):\n",
    "    f = a * math.exp(a * x) - b * math.exp(-1 * b * x) + c * 2 * (x - d)\n",
    "    ff = a * a * math.exp(a * x) + b * b * math.exp(-1 * b * x) + c * 2\n",
    "    return x - (f/ff)\n",
    "\n",
    "def newton_sqrt(a, iters=10):\n",
    "    sequence = [a]\n",
    "    for i in range(iters):\n",
    "        sequence.append(j(sequence[-1]))\n",
    "    return sequence[-1], sequence\n",
    "\n",
    "root, _ = newton_sqrt(a, 100)\n",
    "root"
   ]
  },
  {
   "cell_type": "markdown",
   "metadata": {},
   "source": [
    "3. С использованием тернарного поиска."
   ]
  },
  {
   "cell_type": "code",
   "execution_count": 11,
   "metadata": {},
   "outputs": [],
   "source": [
    "def ff(x):\n",
    "    return math.exp(a * x) + math.exp(-1 * b * x) + c * ((x - d) ** 2)\n",
    "\n",
    "def trisection(g, a, b, num_iters=10):\n",
    "    states = [(a, b)]\n",
    "    left = a\n",
    "    right = b\n",
    "    for i in range(num_iters):\n",
    "        gamma = (2 * left + right) / 3\n",
    "        delta = (left + 2 * right) / 3\n",
    "        if g(gamma) < g(delta):\n",
    "            right = delta\n",
    "        else:\n",
    "            left = gamma\n",
    "        states.append((left, right))\n",
    "    return states"
   ]
  },
  {
   "cell_type": "code",
   "execution_count": 12,
   "metadata": {},
   "outputs": [
    {
     "data": {
      "text/plain": [
       "(0.48945210223541785, 0.49028374692430754)"
      ]
     },
     "execution_count": 12,
     "metadata": {},
     "output_type": "execute_result"
    }
   ],
   "source": [
    "trisection(ff, l, r, 25)[-1]"
   ]
  }
 ],
 "metadata": {
  "kernelspec": {
   "display_name": "Python 3",
   "language": "python",
   "name": "python3"
  },
  "language_info": {
   "codemirror_mode": {
    "name": "ipython",
    "version": 3
   },
   "file_extension": ".py",
   "mimetype": "text/x-python",
   "name": "python",
   "nbconvert_exporter": "python",
   "pygments_lexer": "ipython3",
   "version": "3.8.5"
  }
 },
 "nbformat": 4,
 "nbformat_minor": 4
}
