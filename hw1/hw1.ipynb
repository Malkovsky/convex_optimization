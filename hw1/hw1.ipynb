{
 "cells": [
  {
   "cell_type": "code",
   "execution_count": 120,
   "metadata": {},
   "outputs": [],
   "source": [
    "import numpy as np"
   ]
  },
  {
   "cell_type": "code",
   "execution_count": 121,
   "metadata": {},
   "outputs": [],
   "source": [
    "def bisect(f, xl, xr, eps=1e-9):\n",
    "    fl = f(xl)\n",
    "    fr = f(xr)\n",
    "    assert(fl * fr < 0)\n",
    "    while xr - xl > eps:\n",
    "        mid = (xl + xr) / 2\n",
    "        fm = f(mid)\n",
    "        if fl * fm < 0:\n",
    "            xr = mid\n",
    "            fr = fm\n",
    "        elif fm * fr < 0:\n",
    "            xl = mid\n",
    "            fl = fm\n",
    "        else:\n",
    "            return mid\n",
    "    return (xl + xr) / 2"
   ]
  },
  {
   "cell_type": "code",
   "execution_count": 122,
   "metadata": {},
   "outputs": [],
   "source": [
    "def newtons(f, df, x0, max_iters=10000, eps=1e-9):\n",
    "    if abs(f(x0)) < eps:\n",
    "        return x0\n",
    "    for _ in range(max_iters):\n",
    "        dv = df(x0)\n",
    "        v = f(x0)\n",
    "        assert(dv != 0.0)\n",
    "        x0 = x0 - v / dv\n",
    "        if abs(f(x0)) < eps:\n",
    "            return x0\n",
    "    assert(False)"
   ]
  },
  {
   "cell_type": "markdown",
   "metadata": {},
   "source": [
    "## 1."
   ]
  },
  {
   "cell_type": "code",
   "execution_count": 123,
   "metadata": {},
   "outputs": [],
   "source": [
    "def kth_root_eq(k, a):\n",
    "    assert(a >= 0 and k >= 1)\n",
    "    return lambda x: pow(x,k) - a\n",
    "def d_kth_root_eq(k, a):\n",
    "    assert(a >= 0 and k >= 1)\n",
    "    return lambda x: k * pow(x, k - 1)"
   ]
  },
  {
   "cell_type": "code",
   "execution_count": 124,
   "metadata": {},
   "outputs": [],
   "source": [
    "def solve_kth_root_bisect(k, a):\n",
    "    eq = kth_root_eq(k, a)\n",
    "    x0 = bisect(eq, 0, a + 1)\n",
    "    return x0"
   ]
  },
  {
   "cell_type": "code",
   "execution_count": 125,
   "metadata": {},
   "outputs": [
    {
     "data": {
      "text/plain": [
       "1.4142135620350018"
      ]
     },
     "execution_count": 125,
     "metadata": {},
     "output_type": "execute_result"
    }
   ],
   "source": [
    "solve_kth_root_bisect(2, 2)"
   ]
  },
  {
   "cell_type": "code",
   "execution_count": 126,
   "metadata": {},
   "outputs": [],
   "source": [
    "def solve_kth_root_newtons(k, a):\n",
    "    eq = kth_root_eq(k, a)\n",
    "    deq = d_kth_root_eq(k, a)\n",
    "    x0 = newtons(eq, deq, a)\n",
    "    return x0"
   ]
  },
  {
   "cell_type": "code",
   "execution_count": 127,
   "metadata": {},
   "outputs": [
    {
     "data": {
      "text/plain": [
       "1.4142135623746899"
      ]
     },
     "execution_count": 127,
     "metadata": {},
     "output_type": "execute_result"
    }
   ],
   "source": [
    "solve_kth_root_newtons(2, 2)"
   ]
  },
  {
   "cell_type": "code",
   "execution_count": 128,
   "metadata": {},
   "outputs": [],
   "source": [
    "for a in range(1, 100):\n",
    "    for k in range(1, 100):\n",
    "        assert(np.isclose(solve_kth_root_bisect(k, a), solve_kth_root_newtons(k, a), rtol=1e-6))"
   ]
  },
  {
   "cell_type": "markdown",
   "metadata": {},
   "source": [
    "## 2."
   ]
  },
  {
   "cell_type": "code",
   "execution_count": 129,
   "metadata": {},
   "outputs": [],
   "source": [
    "def locate_roots(f, xl, xr, step=1e-4):\n",
    "    x = xl\n",
    "    r = []\n",
    "    while x <= xr:\n",
    "        r.append((x, f(x)))\n",
    "        x += step\n",
    "    results = [\n",
    "        (x1, x2)\n",
    "        for ((x1, v1), (x2, v2)) in zip(r, r[1:])\n",
    "        if v1 * v2 < 0\n",
    "    ]\n",
    "    return results"
   ]
  },
  {
   "cell_type": "code",
   "execution_count": 130,
   "metadata": {},
   "outputs": [
    {
     "data": {
      "text/plain": [
       "[(1.4141999999999544, 1.4142999999999544)]"
      ]
     },
     "execution_count": 130,
     "metadata": {},
     "output_type": "execute_result"
    }
   ],
   "source": [
    "locate_roots(kth_root_eq(2, 2), 1, 2)"
   ]
  },
  {
   "cell_type": "code",
   "execution_count": 131,
   "metadata": {},
   "outputs": [],
   "source": [
    "def polynom_roots(p, xl, xr):\n",
    "    root_locations = locate_roots(p, xl, xr)\n",
    "    roots = [bisect(p, xl, xr) for (xl, xr) in root_locations]\n",
    "    return roots"
   ]
  },
  {
   "cell_type": "code",
   "execution_count": 132,
   "metadata": {},
   "outputs": [],
   "source": [
    "def make_polynom(coefs):\n",
    "    return lambda x: sum([coef * x**i for i, coef in enumerate(coefs)])"
   ]
  },
  {
   "cell_type": "code",
   "execution_count": 133,
   "metadata": {},
   "outputs": [
    {
     "data": {
      "text/plain": [
       "[-2.00000000037958, -3.7978384273521135e-10]"
      ]
     },
     "execution_count": 133,
     "metadata": {},
     "output_type": "execute_result"
    }
   ],
   "source": [
    "polynom_roots(make_polynom([0, 2, 1]), -5, 5)"
   ]
  },
  {
   "cell_type": "code",
   "execution_count": 134,
   "metadata": {},
   "outputs": [],
   "source": [
    "def d_polynom(coefs):\n",
    "    return lambda x: sum([coef * (i+1) * x**i for i, coef in enumerate(coefs[1:])])"
   ]
  },
  {
   "cell_type": "code",
   "execution_count": 135,
   "metadata": {},
   "outputs": [],
   "source": [
    "def polynom_minimum(p, dp, xl, xr):\n",
    "    dp_roots = polynom_roots(dp, xl, xr)\n",
    "    values = [p(x) for x in dp_roots]\n",
    "    return min(zip(values, dp_roots))"
   ]
  },
  {
   "cell_type": "code",
   "execution_count": 136,
   "metadata": {},
   "outputs": [
    {
     "data": {
      "text/plain": [
       "(-1.0, -1.00000000037969)"
      ]
     },
     "execution_count": 136,
     "metadata": {},
     "output_type": "execute_result"
    }
   ],
   "source": [
    "p_coefs = [0, 2, 1]\n",
    "polynom_minimum(make_polynom(p_coefs), d_polynom(p_coefs), -5, 5)"
   ]
  },
  {
   "cell_type": "code",
   "execution_count": 137,
   "metadata": {},
   "outputs": [],
   "source": [
    "p_coefs = [1, 254921/20790, -66599/4620, 107279/20790, -3211/4620, 127/4158]\n",
    "p = make_polynom(p_coefs)\n",
    "dp = d_polynom(p_coefs)"
   ]
  },
  {
   "cell_type": "code",
   "execution_count": 138,
   "metadata": {},
   "outputs": [],
   "source": [
    "%matplotlib inline\n",
    "import matplotlib.pyplot as plt"
   ]
  },
  {
   "cell_type": "code",
   "execution_count": 139,
   "metadata": {},
   "outputs": [
    {
     "data": {
      "text/plain": [
       "[<matplotlib.lines.Line2D at 0x7fea754c00d0>]"
      ]
     },
     "execution_count": 139,
     "metadata": {},
     "output_type": "execute_result"
    },
    {
     "data": {
      "image/png": "[encoded data removed]",
      "text/plain": [
       "<Figure size 432x288 with 1 Axes>"
      ]
     },
     "metadata": {
      "needs_background": "light"
     },
     "output_type": "display_data"
    }
   ],
   "source": [
    "xs = np.linspace(-0.5, 11.3, 100)\n",
    "ys = [p(x) for x in xs]\n",
    "plt.plot(xs, ys)\n",
    "plt.plot(xs, [0] * len(xs))"
   ]
  },
  {
   "cell_type": "code",
   "execution_count": 140,
   "metadata": {},
   "outputs": [
    {
     "data": {
      "text/plain": [
       "[-0.0747991703033846,\n",
       " 1.7379943004606015,\n",
       " 3.431626973345675,\n",
       " 6.689648561475371,\n",
       " 10.970647445284971]"
      ]
     },
     "execution_count": 140,
     "metadata": {},
     "output_type": "execute_result"
    }
   ],
   "source": [
    "polynom_roots(p, -0.5, 11.3)"
   ]
  },
  {
   "cell_type": "code",
   "execution_count": 141,
   "metadata": {},
   "outputs": [
    {
     "data": {
      "text/plain": [
       "(-57.16762543079767, 9.60946808890387)"
      ]
     },
     "execution_count": 141,
     "metadata": {},
     "output_type": "execute_result"
    }
   ],
   "source": [
    "polynom_minimum(p, dp, -0.5, 11.3)"
   ]
  },
  {
   "cell_type": "markdown",
   "metadata": {},
   "source": [
    "## 3."
   ]
  },
  {
   "cell_type": "code",
   "execution_count": 142,
   "metadata": {},
   "outputs": [],
   "source": [
    "def ternary_min_search(f, xl, xr, eps=1e-9):\n",
    "    while xr - xl > eps:\n",
    "        xml = (2 * xl + xr) / 3\n",
    "        xmr = (xl + 2 * xr) / 3\n",
    "        if f(xmr) > f(xml):\n",
    "            xr = xmr\n",
    "        else:\n",
    "            xl = xml\n",
    "    return (xl + xr) / 2"
   ]
  },
  {
   "cell_type": "code",
   "execution_count": 143,
   "metadata": {},
   "outputs": [
    {
     "data": {
      "text/plain": [
       "1.0000000102940865"
      ]
     },
     "execution_count": 143,
     "metadata": {},
     "output_type": "execute_result"
    }
   ],
   "source": [
    "ternary_min_search(make_polynom([0, -2, 1]), 0, 2) # x^2-2x"
   ]
  },
  {
   "cell_type": "code",
   "execution_count": 144,
   "metadata": {},
   "outputs": [],
   "source": [
    "def make_fun(a, b, c, d):\n",
    "    f = lambda x: np.exp(a * x) + np.exp(-b * x) + c * (x - d)**2\n",
    "    df = lambda x: a * np.exp(a * x) - b * np.exp(-b * x) + 2 * c * (x - d)\n",
    "    ddf = lambda x: a**2 * np.exp(a * x) + b**2 * np.exp(-b * x) + 2 * c\n",
    "    return f, df, ddf"
   ]
  },
  {
   "cell_type": "code",
   "execution_count": 145,
   "metadata": {},
   "outputs": [],
   "source": [
    "f, df, ddf = make_fun(1, 2, 3, 4)\n",
    "xl, xr = -10, 10"
   ]
  },
  {
   "cell_type": "markdown",
   "metadata": {},
   "source": [
    "Так как $a, b, c > 0$, то функция выпуклая, достаточно найти корень производной"
   ]
  },
  {
   "cell_type": "code",
   "execution_count": 146,
   "metadata": {},
   "outputs": [
    {
     "data": {
      "text/plain": [
       "[<matplotlib.lines.Line2D at 0x7fea7551a520>]"
      ]
     },
     "execution_count": 146,
     "metadata": {},
     "output_type": "execute_result"
    },
    {
     "data": {
      "image/png": "[encoded data removed]",
      "text/plain": [
       "<Figure size 432x288 with 1 Axes>"
      ]
     },
     "metadata": {
      "needs_background": "light"
     },
     "output_type": "display_data"
    }
   ],
   "source": [
    "xs = np.linspace(-5, 10, 100)\n",
    "plt.plot(xs, [f(x) for x in xs])"
   ]
  },
  {
   "cell_type": "code",
   "execution_count": 147,
   "metadata": {},
   "outputs": [
    {
     "name": "stdout",
     "output_type": "stream",
     "text": [
      "2.315283729985822\n",
      "2.315283729985808\n",
      "2.315283750704185\n"
     ]
    }
   ],
   "source": [
    "print(bisect(df, xl, xr))\n",
    "print(newtons(df, ddf, xr, max_iters=10000))\n",
    "print(ternary_min_search(f, xl, xr))"
   ]
  }
 ],
 "metadata": {
  "kernelspec": {
   "display_name": "Python 3",
   "language": "python",
   "name": "python3"
  },
  "language_info": {
   "codemirror_mode": {
    "name": "ipython",
    "version": 3
   },
   "file_extension": ".py",
   "mimetype": "text/x-python",
   "name": "python",
   "nbconvert_exporter": "python",
   "pygments_lexer": "ipython3",
   "version": "3.8.3"
  }
 },
 "nbformat": 4,
 "nbformat_minor": 4
}
