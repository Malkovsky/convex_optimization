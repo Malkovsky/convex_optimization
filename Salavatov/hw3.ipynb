{
 "cells": [
  {
   "cell_type": "markdown",
   "metadata": {},
   "source": [
    "## Задача 1.\n",
    "$$\n",
    "c^T x \\rightarrow \\min\\quad \\text{s.t.} \\quad Ax=b,\\;-x\\leq0\n",
    "$$\n",
    "a)\n",
    "Функция Лагранжа для этой задачи: \n",
    "$$\n",
    "L(x, \\lambda, \\mu) = c^T x - \\lambda^T x + \\mu^T (Ax - b)\n",
    "$$\n",
    "Двойственная функция:\n",
    "$$\n",
    "q(\\lambda, \\mu) = \\inf_x L(x, \\lambda, \\mu) = \\inf_x\\ (c^T - \\lambda^T + \\mu^T A) x - \\mu^T b\n",
    "$$\n",
    "Поскольку $x \\in \\mathbb{R}^n$, то \n",
    "$$\n",
    "q(\\lambda, \\mu) = \\begin{cases}-\\infty, & c^T - \\lambda^T + \\mu^T A \\neq 0 \\\\ -\\mu^T b, & \\text{otherwise}\\end{cases}\n",
    "$$\n",
    "\n",
    "Двойственная задача:\n",
    "$$\n",
    "q(\\lambda, \\mu) \\rightarrow \\max\\quad \\text{s.t.} \\quad \\lambda \\geq 0\n",
    "$$\n",
    "Что равносильно\n",
    "$$\n",
    "\\mu^T b \\rightarrow \\min\\quad \\text{s.t.} \\quad c^T - \\lambda^T + \\mu^T A = 0,\\; -\\lambda \\leq 0\n",
    "$$"
   ]
  },
  {
   "cell_type": "code",
   "execution_count": 2,
   "metadata": {},
   "outputs": [],
   "source": [
    "import numpy as np\n",
    "import cvxpy as cp\n",
    "\n",
    "def get_dual_solution(c, A, b):\n",
    "    lam = cp.Variable(c.size)\n",
    "    mu = cp.Variable(b.size)\n",
    "    prob = cp.Problem(\n",
    "        cp.Minimize(mu.T @ b),\n",
    "        [c.T - lam.T + mu.T @ A == 0, -lam <= 0]\n",
    "    )\n",
    "    prob.solve()\n",
    "    return lam.value, mu.value"
   ]
  },
  {
   "cell_type": "code",
   "execution_count": 3,
   "metadata": {},
   "outputs": [
    {
     "data": {
      "text/plain": [
       "(array([-3.86076410e-09, -1.66622965e-11,  2.25000000e+00,  2.75000000e+00]),\n",
       " array([-6.25000001,  2.75000001]))"
      ]
     },
     "execution_count": 3,
     "metadata": {},
     "output_type": "execute_result"
    }
   ],
   "source": [
    "# параметры взял отсюда: https://www.matburo.ru/Examples/Files/LP_Graph3.pdf\n",
    "A = np.array([\n",
    "    [5, -6, 1, -2],\n",
    "    [11, -14, 2, -5]\n",
    "])\n",
    "b = np.array([2, 2])\n",
    "c = np.array([1, 1, 3, 4])\n",
    "\n",
    "lam, mu = get_dual_solution(c, A, b)\n",
    "lam, mu"
   ]
  },
  {
   "cell_type": "markdown",
   "metadata": {},
   "source": [
    "б) из того, что $\\lambda_i$ отличны от нуля, можно заключить, что $x^\\star_i = 0$ (неравенство является для них равенством). Оставшиеся координаты должны найтись из $Ax^\\star = b$."
   ]
  },
  {
   "cell_type": "code",
   "execution_count": 4,
   "metadata": {},
   "outputs": [],
   "source": [
    "def get_primal_solution(c, A, b, lam, mu):\n",
    "    active = np.isclose(lam, 0)\n",
    "    A_active = A[:, active]\n",
    "    x_active = np.linalg.inv(A_active) @ b\n",
    "    x = np.zeros_like(c)\n",
    "    x[active] = x_active\n",
    "    return x\n",
    "# видно, что на самом деле нужны только A, b, lam"
   ]
  },
  {
   "cell_type": "code",
   "execution_count": 5,
   "metadata": {},
   "outputs": [
    {
     "data": {
      "text/plain": [
       "array([4, 3, 0, 0])"
      ]
     },
     "execution_count": 5,
     "metadata": {},
     "output_type": "execute_result"
    }
   ],
   "source": [
    "get_primal_solution(c, A, b, lam, mu)"
   ]
  },
  {
   "cell_type": "markdown",
   "metadata": {},
   "source": [
    "## Задача 2."
   ]
  },
  {
   "cell_type": "code",
   "execution_count": 6,
   "metadata": {},
   "outputs": [],
   "source": [
    "import cvxpy as cp\n",
    "\n",
    "def opt_ball(xs):\n",
    "    center = cp.Variable((1, xs.shape[1]))\n",
    "    prob = cp.Problem(\n",
    "        cp.Minimize(\n",
    "            cp.max(cp.sum((xs - center)**2, axis=1))\n",
    "        )\n",
    "    )\n",
    "    prob.solve()\n",
    "    return center.value, np.sqrt(prob.value)"
   ]
  },
  {
   "cell_type": "code",
   "execution_count": 7,
   "metadata": {},
   "outputs": [
    {
     "data": {
      "text/plain": [
       "(array([[0.5, 0.5]]), 0.7071067811440934)"
      ]
     },
     "execution_count": 7,
     "metadata": {},
     "output_type": "execute_result"
    }
   ],
   "source": [
    "opt_ball(np.array([\n",
    "    [0, 0],\n",
    "    [0, 1],\n",
    "    [1, 0],\n",
    "    [1, 1]\n",
    "]))"
   ]
  },
  {
   "cell_type": "markdown",
   "metadata": {},
   "source": [
    "## Задача 3."
   ]
  },
  {
   "cell_type": "code",
   "execution_count": 79,
   "metadata": {},
   "outputs": [],
   "source": [
    "import cvxpy as cp\n",
    "\n",
    "def svm(xs, ys):\n",
    "    a = cp.Variable((1, xs.shape[1]))\n",
    "    x1 = xs[ys == 1]\n",
    "    x0 = xs[ys == 0]\n",
    "    mxbound = cp.Variable(1)\n",
    "    mnbound = cp.Variable(1)\n",
    "    constraints = []\n",
    "    constraints += [ mxbound <= x @ a.T for x in x1 ]\n",
    "    constraints += [ mnbound >= x @ a.T for x in x0 ]\n",
    "    constraints += [ cp.sum_squares(a) <= 1 ] \n",
    "    prob = cp.Problem(\n",
    "        cp.Maximize(\n",
    "            mxbound - mnbound\n",
    "        ),\n",
    "        constraints\n",
    "    )\n",
    "    prob.solve()\n",
    "    return a.value, prob.value"
   ]
  },
  {
   "cell_type": "code",
   "execution_count": 92,
   "metadata": {},
   "outputs": [],
   "source": [
    "from matplotlib import pyplot as plt\n",
    "\n",
    "xs = np.random.randn(100, 2)\n",
    "def f(x):\n",
    "    return 3 * x.flatten()[0] - 2 * x.flatten()[1]\n",
    "xs = np.array([x - [np.random.uniform(0, 0.3), -np.random.uniform(0, 0.3)] if f(x) <= 0 else x + [np.random.uniform(0, 0.3), -np.random.uniform(0, 0.3)] for x in xs])\n",
    "ys = np.array([f(x) <= 0 for x in xs], dtype=np.int)"
   ]
  },
  {
   "cell_type": "code",
   "execution_count": 93,
   "metadata": {},
   "outputs": [
    {
     "data": {
      "text/plain": [
       "<matplotlib.legend.Legend at 0x7f780169c9a0>"
      ]
     },
     "execution_count": 93,
     "metadata": {},
     "output_type": "execute_result"
    },
    {
     "data": {
      "image/png": "[encoded data removed]",
      "text/plain": [
       "<Figure size 432x288 with 1 Axes>"
      ]
     },
     "metadata": {
      "needs_background": "light"
     },
     "output_type": "display_data"
    }
   ],
   "source": [
    "plt.scatter(xs[ys == 0, 0], xs[ys == 0, 1], label='y=0')\n",
    "plt.scatter(xs[ys == 1, 0], xs[ys == 1, 1], label='y=1')\n",
    "plt.legend()"
   ]
  },
  {
   "cell_type": "code",
   "execution_count": 94,
   "metadata": {},
   "outputs": [
    {
     "name": "stdout",
     "output_type": "stream",
     "text": [
      "[[-0.83499464  0.55025808]] 0.3132042144776096\n"
     ]
    }
   ],
   "source": [
    "a, v = svm(xs, ys)\n",
    "print(a, v)"
   ]
  },
  {
   "cell_type": "code",
   "execution_count": 95,
   "metadata": {},
   "outputs": [
    {
     "data": {
      "text/plain": [
       "<matplotlib.legend.Legend at 0x7f7801754880>"
      ]
     },
     "execution_count": 95,
     "metadata": {},
     "output_type": "execute_result"
    },
    {
     "data": {
      "image/png": "[encoded data removed]",
      "text/plain": [
       "<Figure size 432x288 with 1 Axes>"
      ]
     },
     "metadata": {
      "needs_background": "light"
     },
     "output_type": "display_data"
    }
   ],
   "source": [
    "plt.scatter(xs[ys == 0, 0], xs[ys == 0, 1], label='y=0')\n",
    "plt.scatter(xs[ys == 1, 0], xs[ys == 1, 1], label='y=1')\n",
    "\n",
    "# a -- вектор нормали к поверхности\n",
    "a = np.array([-a[0, 1], a[0, 0]])\n",
    "t = np.linspace(np.min(xs[:, 0]), np.max(xs[:, 0]), 1000)\n",
    "if a[0] != 0.0:\n",
    "    t /= a[0]\n",
    "plt.plot(t * a[0], t * a[1])\n",
    "plt.legend()"
   ]
  },
  {
   "cell_type": "code",
   "execution_count": null,
   "metadata": {},
   "outputs": [],
   "source": []
  }
 ],
 "metadata": {
  "kernelspec": {
   "display_name": "lab",
   "language": "python",
   "name": "lab"
  },
  "language_info": {
   "codemirror_mode": {
    "name": "ipython",
    "version": 3
   },
   "file_extension": ".py",
   "mimetype": "text/x-python",
   "name": "python",
   "nbconvert_exporter": "python",
   "pygments_lexer": "ipython3",
   "version": "3.8.3"
  }
 },
 "nbformat": 4,
 "nbformat_minor": 4
}
