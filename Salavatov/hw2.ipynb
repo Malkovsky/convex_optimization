{
 "cells": [
  {
   "cell_type": "code",
   "execution_count": 1,
   "metadata": {},
   "outputs": [],
   "source": [
    "import numpy as np"
   ]
  },
  {
   "cell_type": "code",
   "execution_count": 141,
   "metadata": {},
   "outputs": [],
   "source": [
    "class SparseMatrix:\n",
    "    def __init__(self, n, m, elems=[]):\n",
    "        \"\"\"\n",
    "        Arguments:\n",
    "        * n, m --- matrix size (n rows, m columns)\n",
    "        * elems: a list of triplets (r, c, v) \n",
    "            --- represents that row r and column c of the matrix contains value v.\n",
    "            All (r, c) pairs must be distinct, 0-indexed.\n",
    "        \"\"\"\n",
    "        self._elems = elems.copy()\n",
    "        self._n = n\n",
    "        self._m = m\n",
    "        \n",
    "    @staticmethod\n",
    "    def from_numpy(mat: np.ndarray) -> SparseMatrix:\n",
    "        \"\"\"\n",
    "        Constructs a SparseMatrix from a numpy matrix\n",
    "        \"\"\"\n",
    "        if len(mat.shape) != 2: \n",
    "            raise IllegalArgumentException(\"mat must be a 2-d numpy array\")\n",
    "        return SparseMatrix(mat.shape[0], mat.shape[1], \n",
    "                            [(r, c, mat[r, c]) \n",
    "                             for r in range(mat.shape[0]) \n",
    "                             for c in range(mat.shape[1]) \n",
    "                             if mat[r, c] != 0]\n",
    "                           )\n",
    "    \n",
    "    def transpose(self) -> SparseMatrix:\n",
    "        return SparseMatrix(self._m, self._n, [\n",
    "            (c, r, v) for (r, c, v) in self._elems\n",
    "        ])\n",
    "    \n",
    "    def to_numpy(self) -> np.ndarray:\n",
    "        result = np.zeros((self._n, self._m))\n",
    "        for (r, c, v) in self._elems:\n",
    "            result[r, c] = v\n",
    "        return result\n",
    "    \n",
    "    def mat_vec_mul(self, vec: np.ndarray) -> np.ndarray:\n",
    "        \"\"\"\n",
    "        Multiples the SparseMatrix by a vector (1-d numpy.ndarray), returns 1-d numpy.ndarray\n",
    "        \"\"\"\n",
    "        if len(vec.shape) != 1: \n",
    "            raise IllegalArgumentException(\"vec is not a 1-d np.ndarray\")\n",
    "        if vec.shape[0] != self._m: \n",
    "            raise IllegalArgumentException(\"vec's length does not match number of columns\")\n",
    "        result = np.zeros(self._n)\n",
    "        for (r, c, v) in self._elems:\n",
    "            result[r] += v * vec[c]\n",
    "        return result\n",
    "    \n",
    "    def vec_mat_mul(self, vec: np.ndarray) -> np.ndarray:\n",
    "        \"\"\"\n",
    "        Multiples a vector (1-d numpy.ndarray) by the SparseMatrix, returns 1-d numpy.ndarray\n",
    "        \"\"\"\n",
    "        if len(vec.shape) != 1: \n",
    "            raise IllegalArgumentException(\"vec is not a 1-d np.ndarray\")\n",
    "        if vec.shape[0] != self._n: \n",
    "            raise IllegalArgumentException(\"vec's length does not match number of rows\")\n",
    "        result = np.zeros(self._m)\n",
    "        for (r, c, v) in self._elems:\n",
    "            result[c] += v * vec[r]\n",
    "        return result"
   ]
  },
  {
   "cell_type": "code",
   "execution_count": 142,
   "metadata": {},
   "outputs": [],
   "source": [
    "to_sparse = SparseMatrix.from_numpy\n",
    "assert(np.all(\n",
    "    to_sparse(np.array([[1, 1], [0, 1]])).to_numpy()\n",
    "    ==\n",
    "    np.array([[1, 1], [0, 1]])\n",
    "))\n",
    "assert(\n",
    "    len(to_sparse(np.array([[1, 1], [0, 1]]))._elems) == 3\n",
    ")\n",
    "assert(np.all(\n",
    "    to_sparse(np.array([[1, 1], [0, 1]])).mat_vec_mul(np.array([2, 3]))\n",
    "    ==\n",
    "    np.array([5, 3])\n",
    "))\n",
    "assert(np.all(\n",
    "    to_sparse(np.array([[1, 1], [0, 1]])).vec_mat_mul(np.array([2, 3]))\n",
    "    ==\n",
    "    np.array([2, 5])\n",
    "))\n",
    "assert(np.all(\n",
    "    to_sparse(np.array([[1, 1], [0, 2]])).transpose().to_numpy()\n",
    "    ==\n",
    "    np.array([[1, 0], [1, 2]])\n",
    "))"
   ]
  },
  {
   "cell_type": "markdown",
   "metadata": {},
   "source": [
    "$\\|Ax - b\\| \\to \\min \\Leftrightarrow \\frac{1}{2} x^T(2A^T A) x - (2A^T b)^Tx + b^Tb \\to \\min$"
   ]
  },
  {
   "cell_type": "code",
   "execution_count": 146,
   "metadata": {},
   "outputs": [],
   "source": [
    "def conjugate_gradient(A, b):\n",
    "    x = x_0\n",
    "    v = (A @ x - b)\n",
    "    d = v\n",
    "    v_norm = np.dot(v, v)\n",
    "    \n",
    "    result = [x.copy()]\n",
    "    for i in range(len(b)):\n",
    "        Ad = np.dot(A, d)\n",
    "        alpha = v_norm / np.dot(d, Ad)\n",
    "        x = x - alpha * d\n",
    "        v = v - alpha * Ad\n",
    "        v_norm_new = np.dot(v, v)\n",
    "\n",
    "        d = v + (v_norm_new / v_norm) * d\n",
    "        v_norm = v_norm_new\n",
    "        result.append(x.copy())\n",
    "    return result\n",
    "\n",
    "def solve(A: SparseMatrix, b):\n",
    "    # A -> A^T A\n",
    "    # b -> A^T b\n",
    "    At = A.transpose()\n",
    "    x = np.zeros(b.shape)\n",
    "    v = At.mat_vec_mul(-b)\n",
    "    d = v\n",
    "    v_norm = np.dot(v, v)\n",
    "    \n",
    "    for i in range(len(b)):\n",
    "        # Ad = A_before @ d = (A^T A) d\n",
    "        Ad = At.mat_vec_mul(A.mat_vec_mul(d))\n",
    "        alpha = v_norm / np.dot(Ad, d)\n",
    "        x = x - alpha * d\n",
    "        v = v - alpha * Ad\n",
    "        v_norm_new = np.dot(v, v)\n",
    "\n",
    "        d = v + (v_norm_new / v_norm) * d\n",
    "        v_norm = v_norm_new\n",
    "    return x"
   ]
  },
  {
   "cell_type": "code",
   "execution_count": 147,
   "metadata": {},
   "outputs": [],
   "source": [
    "def test(dim=5):\n",
    "    from scipy.linalg import sqrtm\n",
    "    A = np.random.rand(dim, dim)\n",
    "    b = np.random.rand(dim)\n",
    "    \n",
    "    solve_res = solve(SparseMatrix.from_numpy(A), b)\n",
    "    exact_res, _, _, _ = np.linalg.lstsq(A, b, rcond=None)\n",
    "    \n",
    "    norm = lambda x: (A @ x - b).T @ (A @ x - b)\n",
    "    \n",
    "    print('solve: {}, {}'.format(norm(solve_res), solve_res))\n",
    "    print('exact: {}, {}'.format(norm(exact_res), exact_res))\n",
    "    \n",
    "    assert(np.isclose(norm(solve_res), norm(exact_res)))"
   ]
  },
  {
   "cell_type": "code",
   "execution_count": 156,
   "metadata": {},
   "outputs": [
    {
     "name": "stdout",
     "output_type": "stream",
     "text": [
      "solve: 2.2431972170590166e-20, [-1.55702841  0.56970894  0.31509173 -0.38931675  1.28072173]\n",
      "exact: 2.2803010541544873e-31, [-1.55702841  0.56970894  0.31509173 -0.38931675  1.28072173]\n"
     ]
    }
   ],
   "source": [
    "test(dim=5)"
   ]
  }
 ],
 "metadata": {
  "kernelspec": {
   "display_name": "Python 3",
   "language": "python",
   "name": "python3"
  },
  "language_info": {
   "codemirror_mode": {
    "name": "ipython",
    "version": 3
   },
   "file_extension": ".py",
   "mimetype": "text/x-python",
   "name": "python",
   "nbconvert_exporter": "python",
   "pygments_lexer": "ipython3",
   "version": "3.8.3"
  }
 },
 "nbformat": 4,
 "nbformat_minor": 4
}
