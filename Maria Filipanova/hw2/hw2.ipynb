{
 "cells": [
  {
   "cell_type": "markdown",
   "metadata": {},
   "source": [
    "HW2"
   ]
  },
  {
   "cell_type": "code",
   "execution_count": 1,
   "metadata": {},
   "outputs": [],
   "source": [
    "import numpy as np\n",
    "import cvxpy as cp"
   ]
  },
  {
   "cell_type": "code",
   "execution_count": 2,
   "metadata": {},
   "outputs": [],
   "source": [
    "class Matrix():\n",
    "    __array_priority__ = 1\n",
    "    \n",
    "    def __init__(self, arr):\n",
    "        self.n = len(arr)\n",
    "        self.m = len(arr[0]) if self.n > 0 else 0\n",
    "        self.ix = []\n",
    "        self.iy = []\n",
    "        self.v = []\n",
    "        for row in range(self.n):\n",
    "            assert len(arr[row]) == self.m\n",
    "            for col in range(self.m):\n",
    "                if arr[row][col] != 0:\n",
    "                    self.ix.append(row)\n",
    "                    self.iy.append(col)\n",
    "                    self.v.append(arr[row][col])\n",
    "    def __matmul__(self, vect):\n",
    "        # M * v\n",
    "        assert vect.shape[0] == self.m \n",
    "        res = [0] * self.n \n",
    "        for i in range(len(self.v)):\n",
    "            res[self.ix[i]] += self.v[i] * vect[self.iy[i]]\n",
    "        return np.array(res)\n",
    "    \n",
    "    def __rmatmul__(self, vect):\n",
    "        # v * M\n",
    "        assert vect.shape[0] == self.n \n",
    "        res = [0] * self.m\n",
    "        for i in range(len(self.v)):\n",
    "            res[self.iy[i]] += self.v[i] * vect[self.ix[i]]\n",
    "        return np.array(res)"
   ]
  },
  {
   "cell_type": "code",
   "execution_count": 3,
   "metadata": {},
   "outputs": [],
   "source": [
    "m = np.array([[0,2,0], [0,0,1]])\n",
    "v = np.array([1,1,1])\n",
    "vv = np.array([1,1])"
   ]
  },
  {
   "cell_type": "code",
   "execution_count": 4,
   "metadata": {},
   "outputs": [
    {
     "data": {
      "text/plain": [
       "array([2, 1])"
      ]
     },
     "execution_count": 4,
     "metadata": {},
     "output_type": "execute_result"
    }
   ],
   "source": [
    "Matrix(m) @ v"
   ]
  },
  {
   "cell_type": "code",
   "execution_count": 5,
   "metadata": {},
   "outputs": [
    {
     "data": {
      "text/plain": [
       "array([0, 2, 1])"
      ]
     },
     "execution_count": 5,
     "metadata": {},
     "output_type": "execute_result"
    }
   ],
   "source": [
    "vv @ Matrix(m)"
   ]
  },
  {
   "cell_type": "code",
   "execution_count": 6,
   "metadata": {},
   "outputs": [],
   "source": [
    "def minimize(M, b):\n",
    "    A = Matrix(M)\n",
    "    At = Matrix(M.T)\n",
    "    x = np.zeros(A.m)\n",
    "    b = At @ b\n",
    "    v = (At @ (A @ x) - b)\n",
    "    d = v\n",
    "    norm = np.dot(v, v)\n",
    "    \n",
    "    for i in range(len(b)):\n",
    "        Ad = At @ (A @ d)\n",
    "        alpha = norm / (d @ Ad)\n",
    "        x = x - alpha * d\n",
    "        v = v - alpha * Ad\n",
    "        nNorm = np.dot(v, v)\n",
    "\n",
    "        d = v + (nNorm / norm) * d\n",
    "        norm = nNorm\n",
    "    return x"
   ]
  },
  {
   "cell_type": "code",
   "execution_count": 7,
   "metadata": {},
   "outputs": [
    {
     "name": "stdout",
     "output_type": "stream",
     "text": [
      "my solution: [ 18.13831288   7.7553703   -6.32481942 -12.84912904  -0.83563506\n",
      "   1.22175638  -4.11015795]\n",
      "real solution: [ 18.13829091   7.75531024  -6.32496528 -12.84930296  -0.8357924\n",
      "   1.22167846  -4.11030434]\n",
      "diff: [2.19745721e-05 6.00625067e-05 1.45859426e-04 1.73920162e-04\n",
      " 1.57345037e-04 7.79142719e-05 1.46388094e-04]\n"
     ]
    }
   ],
   "source": [
    "M = np.random.rand(7, 7)\n",
    "b = np.random.rand(7)\n",
    "\n",
    "res = minimize(M, b)\n",
    "print(\"my solution:\", res)\n",
    "\n",
    "x = cp.Variable(M.shape[1])\n",
    "cp.Problem(cp.Minimize(cp.sum_squares(M @ x - b)), []).solve()\n",
    "print(\"real solution:\", x.value)\n",
    "\n",
    "print(\"diff:\", res - x.value)"
   ]
  }
 ],
 "metadata": {
  "kernelspec": {
   "display_name": "Python 3",
   "language": "python",
   "name": "python3"
  },
  "language_info": {
   "codemirror_mode": {
    "name": "ipython",
    "version": 3
   },
   "file_extension": ".py",
   "mimetype": "text/x-python",
   "name": "python",
   "nbconvert_exporter": "python",
   "pygments_lexer": "ipython3",
   "version": "3.8.5"
  }
 },
 "nbformat": 4,
 "nbformat_minor": 4
}
