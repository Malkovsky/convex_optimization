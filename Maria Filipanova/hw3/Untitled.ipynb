{
 "cells": [
  {
   "cell_type": "code",
   "execution_count": 1,
   "metadata": {},
   "outputs": [],
   "source": [
    "import cvxpy as cp\n",
    "import numpy as np"
   ]
  },
  {
   "cell_type": "markdown",
   "metadata": {},
   "source": [
    "## Задание 1"
   ]
  },
  {
   "cell_type": "markdown",
   "metadata": {},
   "source": [
    "#### Условия:\n",
    "Для задачи линейного программирования минимизировать $$c^Tx$$ при условии $$Ax = b, x \\ge 0$$\n",
    "\n",
    "\n",
    "#### Решение:\n",
    "$$L(x, \\lambda, \\mu) = c^T x - \\lambda^T x + \\mu^T Ax - \\mu^T b$$\n",
    "$$q(\\lambda, \\mu) = \\inf L(x, \\lambda, \\mu) = \\inf (c^T x - \\lambda^T x + \\mu^T Ax - \\mu^T b)$$\n",
    "Тогда так как $x \\in R^n:$\n",
    "$$q(\\lambda, \\mu) = \\begin{cases}\n",
    "-\\mu^Tb      & c^T - \\lambda^T + \\mu^TA = 0  \\\\\n",
    "-\\infty      & c^T - \\lambda^T + \\mu^TA \\neq 0\n",
    "\\end{cases}$$\n",
    "Тогда двойственная задача: минимизировать $\\mu^Tb$ при $c^T - \\lambda^T + \\mu^TA = 0, \\mu \\ge 0$"
   ]
  },
  {
   "cell_type": "code",
   "execution_count": 2,
   "metadata": {},
   "outputs": [
    {
     "data": {
      "text/plain": [
       "(array([-5.33529973e-10, -1.40225863e-09, -8.86079471e-10,  1.84615386e-01,\n",
       "         1.07692307e-01]),\n",
       " array([-8.88152565e-10,  1.84615386e-01,  1.07692307e-01]))"
      ]
     },
     "execution_count": 2,
     "metadata": {},
     "output_type": "execute_result"
    }
   ],
   "source": [
    "def solve1(A, b, c):\n",
    "    m = cp.Variable(b.shape[0])\n",
    "    l = cp.Variable(c.shape[0])\n",
    "    cp.Problem(cp.Minimize(m.T @ b),[c.T - l.T + m.T @ A == 0, l >= 0]).solve()\n",
    "    return l.value, m.value\n",
    "\n",
    "A = np.array([[15, 4, 1, 0, 0], [11, 5, 0, 1, 0], [9, 10, 0, 0, 1]])\n",
    "b = np.array([1095, 865, 1080])\n",
    "c = np.array([-3, -2, 0, 0, 0])\n",
    "\n",
    "l, mu = solve1(A, b, c)\n",
    "l, mu"
   ]
  },
  {
   "cell_type": "markdown",
   "metadata": {},
   "source": [
    "Из того что $l_i$ не равны 0 можно заключить что $x_i = 0$, а остальные найдутся через $Ax = b$"
   ]
  },
  {
   "cell_type": "code",
   "execution_count": 3,
   "metadata": {},
   "outputs": [],
   "source": [
    "def solve11(A, b, c, l, mu):\n",
    "    z = np.isclose(l, 0)\n",
    "    A_z = A[:, z]\n",
    "    x_z = np.linalg.inv(A_z) @ b\n",
    "    res = np.zeros(c.shape)\n",
    "    res[z] = x_z\n",
    "    return res"
   ]
  },
  {
   "cell_type": "code",
   "execution_count": 4,
   "metadata": {},
   "outputs": [
    {
     "data": {
      "text/plain": [
       "array([50., 63., 93.,  0.,  0.])"
      ]
     },
     "execution_count": 4,
     "metadata": {},
     "output_type": "execute_result"
    }
   ],
   "source": [
    "solve11(A, b, c, l, mu)"
   ]
  },
  {
   "cell_type": "markdown",
   "metadata": {},
   "source": [
    "## Задание 2"
   ]
  },
  {
   "cell_type": "code",
   "execution_count": 5,
   "metadata": {},
   "outputs": [
    {
     "data": {
      "text/plain": [
       "(9.513148719192383, array([[ 0.49998904, -1.49999941]]))"
      ]
     },
     "execution_count": 5,
     "metadata": {},
     "output_type": "execute_result"
    }
   ],
   "source": [
    "def solve2(x):\n",
    "    c = cp.Variable((1, x.shape[1]))\n",
    "    problem = cp.Problem(cp.Minimize(cp.max(cp.sum((x - c) ** 2, axis=1))))\n",
    "    problem.solve()\n",
    "    return np.sqrt(problem.value), c.value\n",
    "\n",
    "solve2(np.array([[1, 3],\n",
    "                 [-2, 5],\n",
    "                 [1, 8],\n",
    "                 [3, -2],\n",
    "                 [0, -11],\n",
    "                 [-2, 2]]\n",
    "               ))"
   ]
  }
 ],
 "metadata": {
  "kernelspec": {
   "display_name": "Python 3",
   "language": "python",
   "name": "python3"
  },
  "language_info": {
   "codemirror_mode": {
    "name": "ipython",
    "version": 3
   },
   "file_extension": ".py",
   "mimetype": "text/x-python",
   "name": "python",
   "nbconvert_exporter": "python",
   "pygments_lexer": "ipython3",
   "version": "3.8.5"
  }
 },
 "nbformat": 4,
 "nbformat_minor": 4
}
