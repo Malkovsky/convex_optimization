{
 "cells": [
  {
   "cell_type": "markdown",
   "metadata": {},
   "source": [
    "## Задание 1"
   ]
  },
  {
   "cell_type": "code",
   "execution_count": 51,
   "metadata": {},
   "outputs": [],
   "source": [
    "import numpy as np\n",
    "from typing import List, Tuple\n",
    "from collections import defaultdict"
   ]
  },
  {
   "cell_type": "code",
   "execution_count": 52,
   "metadata": {},
   "outputs": [
    {
     "name": "stdout",
     "output_type": "stream",
     "text": [
      "[[1.]\n",
      " [2.]\n",
      " [2.]]\n",
      "[[5. 2. 0.]]\n"
     ]
    }
   ],
   "source": [
    "class MyMatrix:\n",
    "    __array_priority__ = 1\n",
    "\n",
    "    def __init__(self, n: int, m: int, elements: List[Tuple[int, int, int]]):\n",
    "        \"\"\"\n",
    "        Создает матрицу n*m.\n",
    "        elements - массив троек (i, j, x) таких, что элемент [i, j] матрицы равен x.\n",
    "        Остальные элементы матрицы нулевые.\n",
    "        \"\"\"\n",
    "        assert n >= 0 and m >= 0\n",
    "        used = defaultdict(bool)\n",
    "        for i, j, x in elements:\n",
    "            assert 0 <= i < n and 0 <= j < m, 'Индексы elements должны быть из [0..n-1] x [0..m-1]'\n",
    "            assert not used[i * m + j], 'Индексы elements не должны повторяться'\n",
    "            used[i * m + j] = True\n",
    "        \n",
    "        self.n = n\n",
    "        self.m = m\n",
    "        self.elements = elements\n",
    "    \n",
    "    def __matmul__(self, a: np.ndarray):\n",
    "        assert a.shape == (self.m, 1), 'не совпадают размерности'\n",
    "\n",
    "        res = np.zeros((self.n, 1))\n",
    "        for i, j, x in self.elements:\n",
    "            res[i, 0] += x * a[j, 0]\n",
    "        return res\n",
    "    \n",
    "    def __rmatmul__(self, a: np.ndarray):\n",
    "        assert a.shape == (1, self.n), 'не совпадают размерности'\n",
    "\n",
    "        res = np.zeros((1, self.m))\n",
    "        for i, j, x in self.elements:\n",
    "            res[0, j] += a[0, i] * x\n",
    "        return res\n",
    "\n",
    "\n",
    "A = MyMatrix(3, 3, [(0, 0, 1),\n",
    "                    (0, 1, 2),\n",
    "                    (1, 2, 1),\n",
    "                    (2, 0, 2)])\n",
    "B = np.array([1, 0, 2])\n",
    "\n",
    "\"\"\"\n",
    "(1 2 0)   (1)   (1)\n",
    "(0 0 1) * (0) = (2)\n",
    "(2 0 0)   (2)   (2)\n",
    "\"\"\"\n",
    "print(A @ B.reshape(-1, 1))\n",
    "\n",
    "\"\"\"\n",
    "          (1 2 0)\n",
    "(1 0 2) * (0 0 1) = (5 2 0)\n",
    "          (2 0 0)\n",
    "\"\"\"\n",
    "print(B.reshape(1, -1) @ A)"
   ]
  },
  {
   "cell_type": "code",
   "execution_count": 53,
   "metadata": {},
   "outputs": [
    {
     "name": "stdout",
     "output_type": "stream",
     "text": [
      "[[1.]\n",
      " [2.]\n",
      " [2.]]\n",
      "[[5. 2. 0.]]\n"
     ]
    }
   ],
   "source": [
    "class MyMatrix:\n",
    "    __array_priority__ = 1\n",
    "\n",
    "    def __init__(self, n: int, m: int, elements: List[Tuple[int, int, int]]):\n",
    "        \"\"\"\n",
    "        Создает матрицу n*m.\n",
    "        elements - массив троек (i, j, x) таких, что элемент [i, j] матрицы равен x.\n",
    "        Остальные элементы матрицы нулевые.\n",
    "        \"\"\"\n",
    "        assert n >= 0 and m >= 0\n",
    "        used = defaultdict(bool)\n",
    "        for i, j, x in elements:\n",
    "            assert 0 <= i < n and 0 <= j < m, 'Индексы elements должны быть из [0..n-1] x [0..m-1]'\n",
    "            assert not used[i * m + j], 'Индексы elements не должны повторяться'\n",
    "            used[i * m + j] = True\n",
    "        \n",
    "        self.n = n\n",
    "        self.m = m\n",
    "        self.elements = elements\n",
    "    \n",
    "    def __matmul__(self, a: np.ndarray):\n",
    "        assert a.shape == (self.m, 1), 'не совпадают размерности'\n",
    "\n",
    "        res = np.zeros((self.n, 1))\n",
    "        for i, j, x in self.elements:\n",
    "            res[i, 0] += x * a[j, 0]\n",
    "        return res\n",
    "    \n",
    "    def __rmatmul__(self, a: np.ndarray):\n",
    "        assert a.shape == (1, self.n), 'не совпадают размерности'\n",
    "\n",
    "        res = np.zeros((1, self.m))\n",
    "        for i, j, x in self.elements:\n",
    "            res[0, j] += a[0, i] * x\n",
    "        return res\n",
    "\n",
    "\n",
    "A = MyMatrix(3, 3, [(0, 0, 1),\n",
    "                    (0, 1, 2),\n",
    "                    (1, 2, 1),\n",
    "                    (2, 0, 2)])\n",
    "B = np.array([1, 0, 2])\n",
    "\n",
    "\"\"\"\n",
    "(1 2 0)   (1)   (1)\n",
    "(0 0 1) * (0) = (2)\n",
    "(2 0 0)   (2)   (2)\n",
    "\"\"\"\n",
    "print(A @ B.reshape(-1, 1))\n",
    "\n",
    "\"\"\"\n",
    "          (1 2 0)\n",
    "(1 0 2) * (0 0 1) = (5 2 0)\n",
    "          (2 0 0)\n",
    "\"\"\"\n",
    "print(B.reshape(1, -1) @ A)"
   ]
  },
  {
   "cell_type": "markdown",
   "metadata": {},
   "source": [
    "## Задание 2\n",
    "\n",
    "Минимизировать $||Ax - b|| \\Leftrightarrow$ минимизировать $(Ax - b)^T(Ax - b) = (x^TA^T - b^T)(Ax - b) = x^TA^TAx - b^TAx - x^TA^Tb + b^Tb = x^TA^TAx - b^TAx - b^TAx + b^Tb = \\frac{1}{2}(x^T(2A^TA)x) - (2A^Tb)^Tx + (b^Tb)$\n",
    "\n",
    "Т.о. мы хотим решить $A^TAx = A^Tb$\n",
    "\n",
    "Если $A^TA$ вырожденная, не получится решить задание (не получится найти ортогональные вектора для грамма-шмидта). Значит если $k$ -- количество ненулевых элементов $A$, а $(m, n)$ -- размер $A$, то $n \\le k$, а значит асимптотика $O(n^2 + nk)$ нас тоже устраивает."
   ]
  },
  {
   "cell_type": "code",
   "execution_count": 54,
   "metadata": {},
   "outputs": [],
   "source": [
    "def my_matrix_from_np(a):\n",
    "    return MyMatrix(a.shape[0],\n",
    "                    a.shape[1],\n",
    "                    [(i, j, aij) for i, row in enumerate(a)\n",
    "                                 for j, aij in enumerate(row)\n",
    "                                 if aij != 0])\n",
    "\n",
    "def minimize(A: np.ndarray, b: np.ndarray):\n",
    "    assert len(A.shape) == 2\n",
    "    m, n = A.shape\n",
    "    b = b.reshape((-1, 1))\n",
    "    assert b.shape == (m, 1)\n",
    "    \n",
    "    A_  = my_matrix_from_np(A)\n",
    "    A_T = my_matrix_from_np(A.T)\n",
    "\n",
    "    x = np.zeros((n, 1))\n",
    "    v = A_T @ (A_ @ x - b)\n",
    "    d = v\n",
    "    v_norm = np.dot(v.T, v)\n",
    "    \n",
    "    for i in range(n):\n",
    "        Ad = A_T @ (A @ d)\n",
    "        alpha = v_norm / np.dot(d.T, Ad)\n",
    "        x = x - alpha * d\n",
    "        v = v - alpha * Ad\n",
    "        v_norm_new = np.dot(v.T, v)\n",
    "        \n",
    "        d = v + (v_norm_new / v_norm) * d\n",
    "        v_norm = v_norm_new\n",
    "    \n",
    "    return x"
   ]
  },
  {
   "cell_type": "code",
   "execution_count": 55,
   "metadata": {},
   "outputs": [
    {
     "name": "stdout",
     "output_type": "stream",
     "text": [
      "[[-4.82947016e-15]\n",
      " [ 1.00000000e+00]\n",
      " [-8.32667268e-17]]\n"
     ]
    }
   ],
   "source": [
    "\"\"\"\n",
    "(x+2y-2)^2 + (y-1)^2 + (x+z)^2\n",
    "минимум при (x=0, y=1, z=0)\n",
    "\"\"\"\n",
    "\n",
    "print(minimize(np.array([[1, 2, 0],\n",
    "                         [0, 1, 0],\n",
    "                         [1, 0, 1]]),\n",
    "               np.array([2, 1, 0])))"
   ]
  }
 ],
 "metadata": {
  "kernelspec": {
   "display_name": "Python 3",
   "language": "python",
   "name": "python3"
  },
  "language_info": {
   "codemirror_mode": {
    "name": "ipython",
    "version": 3
   },
   "file_extension": ".py",
   "mimetype": "text/x-python",
   "name": "python",
   "nbconvert_exporter": "python",
   "pygments_lexer": "ipython3",
   "version": "3.8.5"
  }
 },
 "nbformat": 4,
 "nbformat_minor": 4
}
