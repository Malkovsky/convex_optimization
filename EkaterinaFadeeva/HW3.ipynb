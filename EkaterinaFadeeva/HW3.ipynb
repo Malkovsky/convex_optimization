{
 "cells": [
  {
   "cell_type": "markdown",
   "metadata": {
    "id": "cmK-Ee5Z9Kyf"
   },
   "source": [
    "# Задание 1"
   ]
  },
  {
   "cell_type": "markdown",
   "metadata": {
    "id": "6SYjVxvJ9Qed"
   },
   "source": [
    "### a)\n",
    "\n",
    "$f(x) = c^Tx$\n",
    "\n",
    "$h(x) = Ax - b$\n",
    "\n",
    "$g(x) = -x$\n",
    "\n",
    "$L(x, \\lambda, \\mu) = f(x) + \\lambda^T g(x) + \\mu^T h(x) = c^Tx - \\lambda^Tx + \\mu^T(Ax - b) = (c^T - \\lambda^T + \\mu^T A) x - \\mu^Tb$\n",
    "\n",
    "$q(\\lambda, \\mu) = \\inf\\limits_{x \\in \\mathbb{R}^n} L(x, \\lambda, \\mu) = \\inf\\limits_{x \\in \\mathbb{R}^n} ((c^T - \\lambda^T + \\mu^T A) x - \\mu^Tb) = \\begin{cases}\n",
    "-\\mu^Tb & c^T - \\lambda^T + \\mu^TA = 0\\\\\n",
    "-\\infty& c^T - \\lambda^T + \\mu^TA \\neq 0\n",
    "\\end{cases}$\n",
    "\n",
    "Двойственная задача:\n",
    "\n",
    "Максимизировать $-\\mu^Tb$ при условиях $\\begin{cases}\n",
    "c^T - \\lambda^T + \\mu^TA = 0\\\\\n",
    "\\lambda \\ge 0\n",
    "\\end{cases}$"
   ]
  },
  {
   "cell_type": "code",
   "execution_count": 1,
   "metadata": {
    "id": "rsPvfJQKO05b"
   },
   "outputs": [],
   "source": [
    "import numpy as np\n",
    "import scipy as sc\n",
    "import cvxpy\n",
    "import scipy.linalg\n",
    "import matplotlib.pyplot as plt\n",
    "from sympy import *"
   ]
  },
  {
   "cell_type": "code",
   "execution_count": 2,
   "metadata": {
    "colab": {
     "base_uri": "https://localhost:8080/"
    },
    "id": "_EHAmDB0OxNa",
    "outputId": "14d05b83-2072-4182-a0a2-372cb11f1655"
   },
   "outputs": [
    {
     "name": "stdout",
     "output_type": "stream",
     "text": [
      "Mu:     [-0.21588253 -0.09470582]\n",
      "Lambda: [ 1.50000000e+00 -1.51466043e-09]\n"
     ]
    }
   ],
   "source": [
    "def minimize(A, b, c):\n",
    "    mu = cvxpy.Variable(A.shape[0])\n",
    "    lambda_ = cvxpy.Variable(c.shape[0])\n",
    "    cvxpy.Problem(cvxpy.Maximize(-mu.T @ b), [c.T - lambda_.T + mu.T @ A == 0, lambda_ >= 0]).solve()\n",
    "    return mu.value, lambda_.value\n",
    "\n",
    "mu, lambda_ = minimize(np.array([[1, 2],\n",
    "                                 [3, 6]]),\n",
    "                       np.array([5, 15]),\n",
    "                       np.array([2, 1]))\n",
    "print('Mu:    ', mu)\n",
    "print('Lambda:', lambda_)"
   ]
  },
  {
   "cell_type": "markdown",
   "metadata": {
    "id": "OFwYFNn-_JX8"
   },
   "source": [
    "### b)\n",
    "\n",
    "Для всех $\\lambda_i \\neq 0$ должно выполняться $x_i = 0$, а для остальных можно решить оставшуюся систему $Ax = b$."
   ]
  },
  {
   "cell_type": "code",
   "execution_count": 3,
   "metadata": {
    "colab": {
     "base_uri": "https://localhost:8080/"
    },
    "id": "m2jsSVbo9FVI",
    "outputId": "78d64f9c-abc0-4c54-cebe-cd58120b4c9e"
   },
   "outputs": [
    {
     "data": {
      "text/plain": [
       "array([0. , 2.5])"
      ]
     },
     "execution_count": 3,
     "metadata": {},
     "output_type": "execute_result"
    }
   ],
   "source": [
    "def solve_Ax_b(A, b):\n",
    "    x = symbols(['x' * (i + 1) for i in range(A.shape[1])])\n",
    "    system = [Eq(sum([A[i, j] * x[j] for j in range(A.shape[1])]), b[i]) for i in range(A.shape[0])]\n",
    "    soln = solve(system, x)\n",
    "    return list(soln.values())\n",
    "\n",
    "def solve_(A, b, c, mu, lambda_):\n",
    "    lambda_zeros = np.isclose(lambda_, 0)\n",
    "    A_ = A[:, lambda_zeros]\n",
    "    res = np.zeros(c.shape)\n",
    "    res[lambda_zeros] = solve_Ax_b(A_, b)\n",
    "    return res\n",
    "\n",
    "solve_(np.array([[1, 2],\n",
    "                 [3, 6]]),\n",
    "       np.array([5, 15]),\n",
    "       np.array([2, 1]), mu, lambda_)"
   ]
  },
  {
   "cell_type": "markdown",
   "metadata": {
    "id": "bXesWwUwXPRL"
   },
   "source": [
    "# Задание 2"
   ]
  },
  {
   "cell_type": "code",
   "execution_count": 4,
   "metadata": {
    "colab": {
     "base_uri": "https://localhost:8080/"
    },
    "id": "z05hXbBuXUFk",
    "outputId": "02683e98-f47c-43c4-d77c-20dfa660aaa9"
   },
   "outputs": [
    {
     "name": "stdout",
     "output_type": "stream",
     "text": [
      "Center: [-9.14144754e-09  2.85431219e-08]\n",
      "Dist:   4.99999999316947\n",
      "Center: [0. 4. 1. 4. 5. 2.]\n",
      "Dist:   0.9999999996147417\n"
     ]
    }
   ],
   "source": [
    "def find_min_radius(x):\n",
    "    # Я не смогла в какой-нибудь np.repeat, так что будем минимизировать по переменной 'c' размера nXm, где у 'c' все строки равные.\n",
    "    c = cvxpy.Variable(x.shape)\n",
    "    problem = cvxpy.Problem(cvxpy.Minimize(\n",
    "        cvxpy.max(cvxpy.sum((x - c) ** 2, axis=1))\n",
    "    ), [c[i] == c[i + 1] for i in range(x.shape[0] - 1)])\n",
    "    problem.solve()\n",
    "    print('Center:', c.value[0])\n",
    "    print('Dist:  ', np.sqrt(problem.value))\n",
    "\n",
    "find_min_radius(np.array([[0, 5],\n",
    "                          [3, 4],\n",
    "                          [-4, 3],\n",
    "                          [-5, 0],\n",
    "                          [5, 0],\n",
    "                          [-4, -3]]))\n",
    "\n",
    "find_min_radius(np.array([[0, 5, 1, 4, 5, 2],\n",
    "                          [0, 3, 1, 4, 5, 2]]))"
   ]
  },
  {
   "cell_type": "markdown",
   "metadata": {
    "id": "bJiBQVs9cTYD"
   },
   "source": [
    "# Задание 3\n",
    "\n",
    "Максимизируем $\\min\\limits_{y_i = 0} a^T x_i - \\max\\limits_{y_i = 1} a^T x_i$"
   ]
  },
  {
   "cell_type": "code",
   "execution_count": 5,
   "metadata": {
    "id": "13QfxcZEZFVZ"
   },
   "outputs": [
    {
     "name": "stdout",
     "output_type": "stream",
     "text": [
      "a:     [[0.70710678 0.70710678]]\n",
      "value: 0.7071067811800713\n"
     ]
    }
   ],
   "source": [
    "def find_solution(x, y):\n",
    "    a = cvxpy.Variable((1, x.shape[1]))\n",
    "    min_ = cvxpy.Variable(1)\n",
    "    max_ = cvxpy.Variable(1)\n",
    "    problem = cvxpy.Problem(cvxpy.Maximize(min_ - max_),\n",
    "                            [cvxpy.sum_squares(a) <= 1] + \n",
    "                            [a @ x0 >= min_ for x0 in x[y == 0]] + \n",
    "                            [a @ x1.T <= max_ for x1 in x[y == 1]])\n",
    "    problem.solve()\n",
    "    print('a:    ', a.value)\n",
    "    print('value:', problem.value)\n",
    "\n",
    "find_solution(np.array([[1, 2], [2, 1], [1, 1]]), np.array([0, 0, 1]))"
   ]
  },
  {
   "cell_type": "code",
   "execution_count": null,
   "metadata": {
    "id": "aSiYU7W4ix_3"
   },
   "outputs": [],
   "source": []
  }
 ],
 "metadata": {
  "colab": {
   "collapsed_sections": [],
   "name": "hw3.ipynb",
   "provenance": []
  },
  "kernelspec": {
   "display_name": "Python 3",
   "language": "python",
   "name": "python3"
  },
  "language_info": {
   "codemirror_mode": {
    "name": "ipython",
    "version": 3
   },
   "file_extension": ".py",
   "mimetype": "text/x-python",
   "name": "python",
   "nbconvert_exporter": "python",
   "pygments_lexer": "ipython3",
   "version": "3.8.5"
  }
 },
 "nbformat": 4,
 "nbformat_minor": 1
}
