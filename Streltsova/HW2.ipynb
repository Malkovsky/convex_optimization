{
 "cells": [
  {
   "cell_type": "code",
   "execution_count": 3,
   "metadata": {},
   "outputs": [],
   "source": [
    "import numpy as np"
   ]
  },
  {
   "cell_type": "code",
   "execution_count": 16,
   "metadata": {},
   "outputs": [],
   "source": [
    "# задание 1\n",
    "class Matrix:\n",
    "    __array_priority__ = 1\n",
    "    \n",
    "    def __init__(self, as_nparray: np.ndarray):\n",
    "        self.shape = as_nparray.shape\n",
    "        self.as_nparray = as_nparray\n",
    "        self.__nonzero = np.argwhere(as_nparray != 0)\n",
    "        \n",
    "    def __matmul__(self, vector: np.ndarray):\n",
    "        assert len(vector.shape) == 1, \"Vector should be one-dimensional\"\n",
    "        assert self.shape[1] == vector.shape[0],\\\n",
    "            \"Vector has a mismatch in its core dimension 0 (size %d is different from %d)\" % (vector.shape[0], self.shape[1]) \n",
    "        result = np.zeros(self.shape[0], dtype=vector.dtype)\n",
    "        for i, j in self.__nonzero:\n",
    "            result[i] += self.as_nparray[i, j] * vector[j]\n",
    "        return result\n",
    "    \n",
    "    def __rmatmul__(self, vector: np.ndarray):\n",
    "        assert len(vector.shape) == 1, \"Vector should be one-dimensional\"\n",
    "        assert self.shape[0] == vector.shape[0],\\\n",
    "            \"Vector has a mismatch in its core dimension 0 (size %d is different from %d)\" % (vector.shape[0], self.shape[0])\n",
    "        result = np.zeros(self.shape[1], dtype=vector.dtype)\n",
    "        for i, j in self.__nonzero:\n",
    "            result[j] += self.as_nparray[i, j] * vector[i]\n",
    "        return result"
   ]
  },
  {
   "cell_type": "code",
   "execution_count": 17,
   "metadata": {},
   "outputs": [],
   "source": [
    "m = np.array([[0, 1, 2], [3, -1, 0], [-2, 0, 4], [3, -7, -8]])\n",
    "a = np.array([1, 2, 3])\n",
    "b = np.array([1, 2, 3, 4])\n",
    "M = Matrix(m)\n",
    "\n",
    "assert not (m @ a - M @ a).any() \n",
    "assert not (b @ m - b @ M).any()"
   ]
  },
  {
   "cell_type": "markdown",
   "metadata": {},
   "source": [
    "Минимизировать $||Ax - b||$ то же самое, что минимизировать $f(x) = (Ax - b)^T(Ax - b) = xA^TAx-x^TA^Tb-b^tAx+b^Tb = xA^TAx-2b^TAx+b^Tb  $, а нахождение минимума $f$ равносильно решению системы: $A^TAx = A^Tb$"
   ]
  },
  {
   "cell_type": "code",
   "execution_count": 29,
   "metadata": {},
   "outputs": [],
   "source": [
    "# задание 2\n",
    "def minimize(A: np.ndarray,\n",
    "             b: np.ndarray,\n",
    "             x_0: np.ndarray):\n",
    "    assert len(A.shape) == 2, \"Matrix A should be two-dimensional\"\n",
    "    assert len(b.shape) == 1, \"Vector b should be one-dimensional\"\n",
    "    k, n = A.shape\n",
    "    assert k == b.shape[0],\\\n",
    "        \"Vector has a mismatch in its core dimension 0 (size %d is different from %d)\" % (b.shape[0], k)\n",
    "    \n",
    "    A_T = Matrix(A.T) \n",
    "    A = Matrix(A)\n",
    "\n",
    "    x = x_0\n",
    "    v = A_T @ (A @ x - b)\n",
    "    d = v\n",
    "    v_norm = v @ v\n",
    "    \n",
    "    for i in range(n):\n",
    "        Ad = A_T @ (A @ d)        # O(m)\n",
    "        alpha = v_norm / (d @ Ad) # O(n)\n",
    "        x = x - alpha * d         # O(1)\n",
    "        v = v - alpha * Ad        # O(1)\n",
    "        v_norm_new = v @ v        # O(n)\n",
    "\n",
    "        d = v + (v_norm_new / v_norm) * d\n",
    "        v_norm = v_norm_new\n",
    "    return x\n",
    "# полагаем, что n <= m, иначе A^TA вырожденная\n",
    "# таким образом, итоговая асимптотика O((m + n)n + nn) = O(mn)"
   ]
  },
  {
   "cell_type": "code",
   "execution_count": 32,
   "metadata": {},
   "outputs": [],
   "source": [
    "A = np.array([[1, 0, 0], [1, 2, 1], [0, 0, 1]])\n",
    "b = np.array([1, 8, 3])\n",
    "x_0 = np.zeros(3)\n",
    "x = minimize(A, b, x_0)\n",
    "assert np.linalg.norm(x - [1, 2, 3]) < 1e-5"
   ]
  }
 ],
 "metadata": {
  "kernelspec": {
   "display_name": "Python 3",
   "language": "python",
   "name": "python3"
  },
  "language_info": {
   "codemirror_mode": {
    "name": "ipython",
    "version": 3
   },
   "file_extension": ".py",
   "mimetype": "text/x-python",
   "name": "python",
   "nbconvert_exporter": "python",
   "pygments_lexer": "ipython3",
   "version": "3.7.1"
  }
 },
 "nbformat": 4,
 "nbformat_minor": 2
}
