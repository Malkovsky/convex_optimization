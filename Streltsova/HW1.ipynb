{
 "cells": [
  {
   "cell_type": "code",
   "execution_count": 34,
   "metadata": {},
   "outputs": [],
   "source": [
    "import numpy as np\n",
    "\n",
    "EPS=1e-06\n",
    "\n",
    "def bisection(f, l, r, eps=EPS):\n",
    "    while r - l > eps:\n",
    "        m = (l + r) / 2\n",
    "        if f(m) * f(l) <= 0:\n",
    "            r = m\n",
    "        else:\n",
    "            l = m\n",
    "    return l\n",
    "\n",
    "def newton(f, x0, iters=20):\n",
    "    sequence = [x0]\n",
    "    for _ in range(iters):\n",
    "        sequence.append(f(sequence[-1]))\n",
    "    return sequence[-1]\n",
    "\n",
    "def trisection(f, l, r, iters=20):\n",
    "    for _ in range(iters):\n",
    "        a = (2 * l + r) / 3\n",
    "        b = (l + 2 * r) / 3\n",
    "        if f(a) < f(b):\n",
    "            r = b\n",
    "        else:\n",
    "            l = a\n",
    "    return l"
   ]
  },
  {
   "cell_type": "code",
   "execution_count": 35,
   "metadata": {},
   "outputs": [],
   "source": [
    "# задание 1.1\n",
    "def nth_root1(n, a):\n",
    "    assert not (n % 2 == 0 and a < 0), 'Negative number %d doesn\\'t have real %s root' \\\n",
    "    % (a, ('square' if n == 2 else (\"%dth\" % n)))\n",
    "    \n",
    "    def f(x):\n",
    "        return x ** n - abs(a)\n",
    "    \n",
    "    root = bisection(f, 0, max(1, abs(a)))\n",
    "    return -root if a < 0 else root"
   ]
  },
  {
   "cell_type": "code",
   "execution_count": 57,
   "metadata": {},
   "outputs": [],
   "source": [
    "assert abs(nth_root1(2, 2) - np.sqrt(2)) < EPS\n",
    "assert abs(nth_root1(3, -27) + 3) < EPS"
   ]
  },
  {
   "cell_type": "markdown",
   "metadata": {},
   "source": [
    "Задание 1.2 \n",
    "\n",
    "Рассмотрим следующую последовательность: \n",
    "$x_{k+1}=\\frac{1}{n}\\left((n-1)\\cdot x_k+\\frac{a}{x_k^{n-1}}\\right)$ \n",
    "\n",
    "1. $\\left.\\frac{d}{dx}\\left((n-1)\\cdot x_k+\\frac{a}{x_k^{n-1}}\\right)\\right|_{x=\\sqrt[n]{a}}=(n-1)\\left.\\left(1-\\frac{a}{x^n}\\right)\\right|_{x=\\sqrt[n]{a}}=0$\n",
    "\n",
    "2. Пусть $a > 0$ (для отрицательных $a$ можем вынести минус из под корня). $x_k$ возрастает, если $x_0\\in(0, \\sqrt[n]{a})$, и убывает, если $x_0>\\sqrt[n]{a}$. То есть последовательность $x_k$ сходится, причем сходится к корню уравнения $x^n - a = 0$, то есть к $\\sqrt[n]{a}$. Так как $f'$ непрерывна на $(0, +\\infty)$, то она непрерывна по Липшицу на любом замкнутом отрезке $[a; b]\\subset(0, \\infty)$.\n",
    "\n",
    "Таким образм, необходимые условия выполняются, и с некоторого момента метод Ньютона имеет квадратичную сходимость."
   ]
  },
  {
   "cell_type": "code",
   "execution_count": 37,
   "metadata": {
    "scrolled": true
   },
   "outputs": [],
   "source": [
    "# задание 1.2\n",
    "def nth_root2(n, a):\n",
    "    assert not (n % 2 == 0 and a < 0), 'Negative number %d doesn\\'t have real %s root' \\\n",
    "    % (a, ('square' if n == 2 else (\"%dth\" % n)))\n",
    "    \n",
    "    def f(x):\n",
    "        return ((n - 1) * x + a / x ** (n - 1)) / n\n",
    "    \n",
    "    return newton(f, a)"
   ]
  },
  {
   "cell_type": "code",
   "execution_count": 56,
   "metadata": {},
   "outputs": [],
   "source": [
    "assert abs(nth_root2(2, 2) - np.sqrt(2)) < EPS\n",
    "assert abs(nth_root2(3, -27) + 3) < EPS"
   ]
  },
  {
   "cell_type": "markdown",
   "metadata": {},
   "source": [
    "Задание 2.1\n",
    "\n",
    "Для поиска нужного разбиения нам нужно найти точки, в которых многочлен меняет направление роста, то есть локальные максимумы и минимумы, а для этого найти нули производной многочлена и выбрать из них те, которые являются локальными экстремумами. Для того чтобы найти нули производной, можно найти искомое разбиение для производной, а затем на каждом отрезке найти корень производной с помощью бисекции."
   ]
  },
  {
   "cell_type": "code",
   "execution_count": 39,
   "metadata": {},
   "outputs": [],
   "source": [
    "# задание 2.1\n",
    "def poly(coefs):\n",
    "    n = len(coefs) - 1\n",
    "    return lambda x: np.sum(np.array([x ** (n - i) for i in range(n + 1)]) * coefs)\n",
    "\n",
    "def dpoly_coefs(coefs):\n",
    "    n = len(coefs) - 1\n",
    "    return [(n - i) * coef for i, coef in enumerate(coefs[:-1])]\n",
    "\n",
    "def rec_partition(coefs, l0, r0):\n",
    "    # избавляемся от старших коэффициентов равных нулю\n",
    "    while len(coefs) > 0 and coefs[0] == 0:\n",
    "        coefs = coefs[1:]\n",
    "        \n",
    "    if len(coefs) < 2:\n",
    "        return None\n",
    "\n",
    "    dcoefs = dpoly_coefs(coefs)\n",
    "    f = poly(coefs)\n",
    "    df = poly(dcoefs)\n",
    "    \n",
    "    if len(coefs) == 2:\n",
    "        return None if f(l0) * f(r0) >= 0 else [[l0, r0]]\n",
    "    \n",
    "    dpartition = rec_partition(dcoefs, l0, r0)\n",
    "    if dpartition is None:\n",
    "        return None\n",
    "    droots = [bisection(df, l, r) for l, r in dpartition]\n",
    "    \n",
    "    partition = [[l0, r0]]\n",
    "    for i, droot in enumerate(droots):\n",
    "        l, r = partition.pop(-1)\n",
    "        if abs(f(droot)) > EPS and f(l) * f(droot) < 0:\n",
    "            partition += [[l, droot], [droot, r]]\n",
    "        else:\n",
    "            partition.append([l, r])\n",
    "    \n",
    "    # проверяем, что последний добавленный отрезок удовлетворяет нужному условию\n",
    "    if len(partition) > 1:\n",
    "        l, r = partition.pop(-1)\n",
    "        if f(l) * f(r) >= 0:\n",
    "            partition[-1][1] = r\n",
    "        else:\n",
    "            partition.append([l, r])\n",
    "    \n",
    "    return partition  \n",
    "\n",
    "# возвращает None, когда требуемое разбиение не существует\n",
    "def get_partition(coefs, l0, r0):\n",
    "    f = poly(coefs)\n",
    "    partition = rec_partition(coefs, l0, r0)\n",
    "    if len(partition) == 1 and f(l0) * f(r0) >= 0:\n",
    "        return None\n",
    "    return partition  "
   ]
  },
  {
   "cell_type": "code",
   "execution_count": 40,
   "metadata": {},
   "outputs": [],
   "source": [
    "# задание 2.2\n",
    "def find_roots(coefs, l0, r0):\n",
    "    partition = get_partition(coefs, l0, r0)\n",
    "    f = poly(coefs)\n",
    "    return [bisection(f, l, r) for l, r in partition]"
   ]
  },
  {
   "cell_type": "code",
   "execution_count": 41,
   "metadata": {},
   "outputs": [],
   "source": [
    "a = np.array(find_roots([1, 0, -5, 0, 4], -3, 3)) - [-2, -1, 1, 2]\n",
    "assert np.all(abs(a) < EPS)\n",
    "b =  np.array(find_roots([1, 0, -5, 0, 4, 0], -3, 3)) - [-2, -1, 0, 1, 2]\n",
    "assert np.all(abs(b) < EPS)\n",
    "c =  np.array(find_roots([1, -2, -5, 10, 4, -8], -3, 3)) - [-2, -1, 1] \n",
    "assert np.all(abs(c) < EPS)"
   ]
  },
  {
   "cell_type": "markdown",
   "metadata": {},
   "source": [
    "Задание 2.3\n",
    "\n",
    "Точка глобального минимума на отрезке является либо нулём производной, либо концом отрезка."
   ]
  },
  {
   "cell_type": "code",
   "execution_count": 42,
   "metadata": {},
   "outputs": [],
   "source": [
    "# задание 2.3\n",
    "def find_abs_min(coefs, l, r):\n",
    "    f = poly(coefs)\n",
    "    dcoefs = dpoly_coefs(coefs)\n",
    "    droots = find_roots(dcoefs, l, r)\n",
    "    return min(map(lambda x: f(x), droots + [l, r]))"
   ]
  },
  {
   "cell_type": "markdown",
   "metadata": {},
   "source": [
    "Задание 3\n",
    "\n",
    "$f(x) = e^{ax} + e^{-bx} + c\\cdot(x-d)^2$\n",
    "\n",
    "$f'(x) = a\\cdot e^{ax} - b\\cdot e^{-bx} + 2c\\cdot(x-d)$\n",
    "\n",
    "$f''(x) = a^2\\cdot e^{ax} + b^2\\cdot e^{-bx} + 2c$\n",
    "\n",
    "$f''(x) > 0$ на $\\mathbb{R}$, то есть $f'(x)$ строго возрастает, при этом на $-\\infty$ $f'(x)$ стремится к $-\\infty$, на $\\infty$ стремится к $\\infty$, и значит уравнение $f'(x)=0$ имеет единственный корень, который также является точкой минимума $f(x)$."
   ]
  },
  {
   "cell_type": "code",
   "execution_count": 43,
   "metadata": {},
   "outputs": [],
   "source": [
    "def f(a, b, c, d):\n",
    "    return lambda x: np.e ** (a * x) + np.e ** (-b * x) + c * (x - d) ** 2\n",
    "\n",
    "def df(a, b, c, d):\n",
    "    return lambda x: a * np.e ** (a * x) - b * np.e ** (-b * x) + 2 * c * (x - d)\n",
    "\n",
    "def ddf(a, b, c, d):\n",
    "    return lambda x: a ** 2 * np.e ** (a * x) + b ** 2 * np.e ** (-b * x) + 2 * c"
   ]
  },
  {
   "cell_type": "code",
   "execution_count": 44,
   "metadata": {},
   "outputs": [],
   "source": [
    "# задание 3.1\n",
    "def get_minimum1(a, b, c, d):\n",
    "    l0 = min(d, -a / b / (a + b))\n",
    "    r0 = max(d, b / a / (a + b))\n",
    "    x_min = bisection(df(a, b, c, d), l0, r0)\n",
    "    return f(a, b, c, d)(x_min)"
   ]
  },
  {
   "cell_type": "code",
   "execution_count": 55,
   "metadata": {},
   "outputs": [],
   "source": [
    "assert abs(get_minimum1(1, 2, 3, -4) - 34.5867) < 1e-04"
   ]
  },
  {
   "cell_type": "code",
   "execution_count": 46,
   "metadata": {},
   "outputs": [],
   "source": [
    "# задание 3.2\n",
    "def get_minimum2(a, b, c, d):\n",
    "    x_min = newton(lambda x: x - df(a, b, c, d)(x) / ddf(a, b, c, d)(x), 0)\n",
    "    return f(a, b, c, d)(x_min)"
   ]
  },
  {
   "cell_type": "code",
   "execution_count": 53,
   "metadata": {},
   "outputs": [],
   "source": [
    "assert abs(get_minimum2(1, 2, 3, -4) - 34.5867) < 1e-04"
   ]
  },
  {
   "cell_type": "code",
   "execution_count": 50,
   "metadata": {},
   "outputs": [],
   "source": [
    "# задание 3.3\n",
    "def get_minimum3(a, b, c, d):\n",
    "    l0 = min(d, -a / b / (a + b))\n",
    "    r0 = max(d, b / a / (a + b))\n",
    "    x_min = trisection(f(a, b, c, d), l0, r0)\n",
    "    return f(a, b, c, d)(x_min)"
   ]
  },
  {
   "cell_type": "code",
   "execution_count": 54,
   "metadata": {},
   "outputs": [],
   "source": [
    "assert abs(get_minimum3(1, 2, 3, -4) - 34.5867) < 1e-04"
   ]
  }
 ],
 "metadata": {
  "kernelspec": {
   "display_name": "Python 3",
   "language": "python",
   "name": "python3"
  },
  "language_info": {
   "codemirror_mode": {
    "name": "ipython",
    "version": 3
   },
   "file_extension": ".py",
   "mimetype": "text/x-python",
   "name": "python",
   "nbconvert_exporter": "python",
   "pygments_lexer": "ipython3",
   "version": "3.7.1"
  }
 },
 "nbformat": 4,
 "nbformat_minor": 2
}
