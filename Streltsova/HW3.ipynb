{
 "cells": [
  {
   "cell_type": "code",
   "execution_count": 23,
   "metadata": {},
   "outputs": [],
   "source": [
    "import cvxpy as cp\n",
    "import numpy as np\n",
    "import matplotlib.pyplot as plt "
   ]
  },
  {
   "cell_type": "markdown",
   "metadata": {},
   "source": [
    "#### Задание 1\n",
    "\n",
    "Задача линейного программирования:\n",
    "$$\n",
    "\\begin{array}{ll}\n",
    "\\mbox{минимизировать } &~ c^Tx\\\\\n",
    "\\mbox{при условии } \n",
    "&~x\\geq 0\\\\\n",
    "&~ Ax=b \n",
    "\\end{array}\n",
    "$$\n",
    "Лагранжиан:\n",
    "$$\n",
    "L(x, \\lambda, \\mu)=c^Tx-\\lambda^Tx+\\mu^T(Ax-b)\n",
    "$$\n",
    "Двойственная функция:\n",
    "$$\n",
    "q(\\lambda, \\mu)=\n",
    "\\begin{cases}\n",
    "-\\infty, & c-\\lambda+A^T\\mu\\neq 0 \\\\\n",
    "-\\mu^Tb, &c-\\lambda+A^T\\mu=0\n",
    "\\end{cases}\n",
    "$$\n",
    "Двойственная задача:\n",
    "$$\n",
    "\\begin{array}{ll}\n",
    "\\mbox{максимизировать } &~ -\\mu^Tb\\\\\n",
    "\\mbox{при условии } &~ c-\\lambda+A^T\\mu=0 \\\\\n",
    "&~\\lambda\\geq 0\n",
    "\\end{array}\n",
    "$$"
   ]
  },
  {
   "cell_type": "code",
   "execution_count": 2,
   "metadata": {},
   "outputs": [],
   "source": [
    "def solve_dual(A, b, c):\n",
    "    \"\"\"\n",
    "    A: np.ndarray (m, n)\n",
    "    b: np.ndarray (m)\n",
    "    c: np.ndarray (n)\n",
    "    \"\"\"\n",
    "    m, n = A.shape\n",
    "    mu = cp.Variable(m)\n",
    "    l = cp.Variable(n)\n",
    "    objective = cp.Minimize(mu @ b)\n",
    "    constraints = [c.T - l.T + mu.T @ A== 0, l >= 0]\n",
    "    prob = cp.Problem(objective, constraints)\n",
    "    prob.solve()\n",
    "    return l.value, mu.value"
   ]
  },
  {
   "cell_type": "markdown",
   "metadata": {},
   "source": [
    "Для минимума $f$ верно:\n",
    "$$\n",
    "q(\\lambda^*, \\mu^*)= f(x^*) \\\\\n",
    "-\\mu^Tb = c^Tx \n",
    "$$\n",
    "\n",
    "$c-\\lambda+A^T\\mu=0 \\Rightarrow \\forall x\\ \\  c^Tx-\\lambda^Tx+\\mu^T A x=0 $, то есть нам достаточно найти такой $x$, для которого верно $\\lambda^T x = 0$ (и т.ч. $Ax= b$)."
   ]
  },
  {
   "cell_type": "code",
   "execution_count": 3,
   "metadata": {},
   "outputs": [],
   "source": [
    "def solve_primal(A, b, c):\n",
    "    \"\"\"\n",
    "    A: np.ndarray (m, n)\n",
    "    b: np.ndarray (m)\n",
    "    c: np.ndarray (n)\n",
    "    \"\"\"\n",
    "    m, n = A.shape\n",
    "    l, mu = solve_dual(A, b, c)\n",
    "    x = np.zeros(n)\n",
    "    mask = np.isclose(l, 0)\n",
    "    x[mask] = np.linalg.inv(A[:, mask]) @ b\n",
    "    return x"
   ]
  },
  {
   "cell_type": "markdown",
   "metadata": {},
   "source": [
    "#### Задание 2"
   ]
  },
  {
   "cell_type": "markdown",
   "metadata": {},
   "source": [
    "По сути решаем задачу:\n",
    "$$\n",
    "\\begin{array}{ll}\n",
    "\\mbox{минимизировать } &~ r\\\\\n",
    "\\mbox{при условии } \n",
    "&~r\\geq 0\\\\\n",
    "&~ x_i^Tx_i - 2x_i^Tx + x^Tx \\leq r, \\ i = 1, \\dots, m\n",
    "\\end{array}\n",
    "$$"
   ]
  },
  {
   "cell_type": "code",
   "execution_count": 4,
   "metadata": {},
   "outputs": [],
   "source": [
    "def smallest_bounding_sphere(X):\n",
    "    \"\"\"\n",
    "    X: np.ndarray (m, n)\n",
    "    X = [x_1, ... x_m]\n",
    "    \"\"\"\n",
    "    m, n = X.shape\n",
    "    r2 = cp.Variable(1)\n",
    "    x = cp.Variable(n)\n",
    "    objective = cp.Minimize(r2)\n",
    "    constraints = [X[i] @ X[i] - 2 * X[i] @ x + cp.sum(x ** 2) <= r2 for i in range(m)] + [r2 >= 0]\n",
    "    prob = cp.Problem(objective, constraints)\n",
    "    prob.solve()\n",
    "    return x.value, np.sqrt(r2.value)"
   ]
  },
  {
   "cell_type": "code",
   "execution_count": 13,
   "metadata": {},
   "outputs": [],
   "source": [
    "x, r = smallest_bounding_sphere(np.array([[0, 0], [3, 1], [2, 4]]))\n",
    "assert abs(np.linalg.norm(x - [1, 2])) < 1e-4 and abs(r - np.sqrt(5)) < 1e-4"
   ]
  },
  {
   "cell_type": "markdown",
   "metadata": {},
   "source": [
    "#### Задача 3\n"
   ]
  },
  {
   "cell_type": "markdown",
   "metadata": {},
   "source": [
    "Решаем задачу:\n",
    "$$\n",
    "\\begin{array}{ll}\n",
    "\\mbox{максимизировать } &~ \\min\\limits_{y_i = 1} a^Tx_i - \\max\\limits_{y_i = 0} a^Tx_i\\\\\n",
    "\\mbox{при условии } \n",
    "&~||a||^2 = 1 \\\\\n",
    "\\end{array}\n",
    "$$\n",
    "А это то же самое, что решать задачу:\n",
    "$$\n",
    "\\begin{array}{ll}\n",
    "\\mbox{максимизировать } &~ p1 - p0\\\\\n",
    "\\mbox{при условии } \n",
    "&~||a||^2 = 1\\\\\n",
    "&~p1 \\leq  \\min\\limits_{y_i = 1} a^Tx_i \\\\\n",
    "&~p0 \\geq \\max\\limits_{y_i = 0} a^Tx_i\n",
    "\\end{array}\n",
    "$$\n"
   ]
  },
  {
   "cell_type": "code",
   "execution_count": 30,
   "metadata": {},
   "outputs": [],
   "source": [
    "def svm(X, Y):\n",
    "    \"\"\"\n",
    "    Y: np.ndarray (m)\n",
    "    X: np.ndarray (m, n)\n",
    "    X = [x_1, ... x_m]\n",
    "    \"\"\"\n",
    "    m, n = X.shape\n",
    "    a = cp.Variable(n)\n",
    "    p1 = cp.Variable(1)\n",
    "    p0 = cp.Variable(1)\n",
    "    objective = cp.Maximize(p1 - p0)\n",
    "    constraints = [p1 <= x @ a for x in X[Y == 1]] + [p0 >= x @ a for x in X[Y == 0]] + [cp.sum(a ** 2) <= 1]\n",
    "    prob = cp.Problem(objective, constraints)\n",
    "    prob.solve()\n",
    "    return a.value"
   ]
  }
 ],
 "metadata": {
  "kernelspec": {
   "display_name": "Python 3",
   "language": "python",
   "name": "python3"
  },
  "language_info": {
   "codemirror_mode": {
    "name": "ipython",
    "version": 3
   },
   "file_extension": ".py",
   "mimetype": "text/x-python",
   "name": "python",
   "nbconvert_exporter": "python",
   "pygments_lexer": "ipython3",
   "version": "3.7.1"
  }
 },
 "nbformat": 4,
 "nbformat_minor": 2
}
