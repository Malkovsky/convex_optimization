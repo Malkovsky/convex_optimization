{
 "cells": [
  {
   "cell_type": "code",
   "execution_count": 3,
   "metadata": {},
   "outputs": [],
   "source": [
    "import numpy as np\n",
    "import matplotlib as plt\n",
    "from IPython.display import set_matplotlib_formats\n",
    "set_matplotlib_formats('svg')\n",
    "%matplotlib inline\n",
    "plt.rcParams[\"axes.labelsize\"] = 16.\n",
    "plt.rcParams[\"xtick.labelsize\"] = 14.\n",
    "plt.rcParams[\"ytick.labelsize\"] = 14.\n",
    "plt.rcParams[\"legend.fontsize\"] = 12.\n",
    "plt.rcParams[\"figure.figsize\"] = [8., 5.]"
   ]
  },
  {
   "cell_type": "code",
   "execution_count": 98,
   "metadata": {},
   "outputs": [],
   "source": [
    "class Polinomial:\n",
    "    def __init__(self, coeffs):\n",
    "        self.degree = len(coeffs) - 1\n",
    "        self._c = coeffs\n",
    "        assert self._c[self.degree] != 0\n",
    "    def __call__(self, x):\n",
    "        return sum([a * (x ** i) for (i, a) in enumerate(self._c)])\n",
    "    def dx(self):\n",
    "        return Polinomial([a * (i + 1) for (i, a) in enumerate(self._c[1:])])\n",
    "    def plot(self, a, b):\n",
    "        x = np.linspace(a, b, 100)\n",
    "        y = x * 0\n",
    "        for i, c in enumerate(self._c):\n",
    "            y += c * (x ** i)\n",
    "        plt.plot(x, x * 0)\n",
    "        plt.plot(x, y)\n",
    "        plt.show()"
   ]
  },
  {
   "cell_type": "code",
   "execution_count": 80,
   "metadata": {},
   "outputs": [
    {
     "data": {
      "image/png": "[encoded data removed]",
      "text/plain": [
       "<Figure size 576x360 with 1 Axes>"
      ]
     },
     "metadata": {
      "needs_background": "light"
     },
     "output_type": "display_data"
    }
   ],
   "source": [
    "Polinomial([-10, 0, 1]).plot(-10, 10)"
   ]
  },
  {
   "cell_type": "markdown",
   "metadata": {},
   "source": [
    "# Задание 2"
   ]
  },
  {
   "cell_type": "code",
   "execution_count": 142,
   "metadata": {},
   "outputs": [],
   "source": [
    "# Функция делит отрезок [a, b] на отрезки [L1, R1] [L2, R2], ... \n",
    "# Такие, что p(L_i) * p(R_i) < 0\n",
    "# Для этого она находит корни производной и проверяет их\n",
    "def split_section(p, a, b, eps=1e-7):\n",
    "    # Ну полиномы нулевой степени лучше сюда не передавать\n",
    "    assert p.degree > 0\n",
    "    # Если p(a) == 0 or p(b) == 0, невозможно разделить на интервалы из условия, не выкинув корень\n",
    "    assert p(a) * p(b) != 0\n",
    "    \n",
    "    if p.degree == 1:\n",
    "        root = -p._c[0] / p._c[1]\n",
    "        if a <= root and root <= b:\n",
    "            return [(a, b)]\n",
    "        else:\n",
    "            return []\n",
    "    dp = p.dx()\n",
    "    dp_roots = find_roots(dp, a, b)\n",
    "    points = [a]\n",
    "    for root in dp_roots:\n",
    "        if close(p(root), 0, eps):\n",
    "            # Если мы нашли корень, лучше отступить от него в разные стороны, чтобы \n",
    "            # Успешно делить на отрезки p(l_i) * p(r_i) < 0, а не p(l_i) * p(r_i) = 0\n",
    "            # Это заставляет нас вводить отступ eps и считать, что корней ближе, чем на 2 * eps не бывает\n",
    "            points.append(root-eps)\n",
    "            points.append(root+eps)\n",
    "        else:\n",
    "            points.append(root)\n",
    "    points.append(b)\n",
    "    # Получили список [a, root_dp_1, root_dp_2, ..., b] - из него достанем нужные отрезки\n",
    "    result = []\n",
    "    for left, right in zip(points, points[1:]):\n",
    "        if p(left) * p(right) < 0:\n",
    "            result.append((left, right))\n",
    "    return result\n",
    "    \n",
    "# Числа считаются равными с погрешностью eps \n",
    "def close(x, y, eps):\n",
    "    return abs(x - y) <= eps\n",
    "\n",
    "# Filter roots from list, so they in [a, b]\n",
    "def filter_roots(roots, a, b):\n",
    "    return list(filter(lambda x: a <= x and x <= b, roots))\n",
    "\n",
    "def bisection(p, a, b, eps=1e-7):\n",
    "    assert p(a) * p(b) < 0\n",
    "    assert a < b and not close(a, b, eps)\n",
    "    l, r = a, b\n",
    "    while r - l > eps:\n",
    "        m = (l + r) / 2\n",
    "        if close(p(m), 0, eps):\n",
    "            return m\n",
    "        if p(l) * p(m) < 0:\n",
    "            r = m\n",
    "        else:\n",
    "            l = m\n",
    "    return l\n",
    "\n",
    "def find_roots(p, a, b, eps=1e-7):\n",
    "    \n",
    "    # Analitical solution for degree 1 & 2\n",
    "    if p.degree == 1:\n",
    "        return filter_roots([-p._c[0] / p._c[1]], a, b)\n",
    "    if p.degree == 2:\n",
    "        pa = p._c[2]\n",
    "        pb = p._c[1]\n",
    "        pc = p._c[0]\n",
    "        d = pb ** 2 - 4 * pa * pc\n",
    "        if d < 0:\n",
    "            return []\n",
    "        else:\n",
    "            x1 = (-pb - np.sqrt(d)) / (2 * pa)\n",
    "            x2 = (-pb + np.sqrt(d)) / (2 * pa)\n",
    "            return filter_roots([x1, x2], a, b)\n",
    "        \n",
    "    # TODO: Кратные корни скорее всего будут плохо искаться\n",
    "    sections = split_section(p, a, b, eps)\n",
    "    return [bisection(p, l, r, eps) for (l, r) in sections]\n",
    "\n",
    "def find_minima(p, a, b, eps=1e-7):\n",
    "    candidates = [(p(x), x) for x in find_roots(p.dx(), a, b, eps)] + [(p(a), a)] + [(p(b), b)]\n",
    "    min_v, min_x = 10 ** 18, 0\n",
    "    for v, x in candidates:\n",
    "        if v < min_v:\n",
    "            min_v = v\n",
    "            min_x = x\n",
    "    return min_v, min_x"
   ]
  },
  {
   "cell_type": "code",
   "execution_count": 143,
   "metadata": {},
   "outputs": [
    {
     "data": {
      "image/png": "[encoded data removed]",
      "text/plain": [
       "<Figure size 576x360 with 1 Axes>"
      ]
     },
     "metadata": {
      "needs_background": "light"
     },
     "output_type": "display_data"
    },
    {
     "name": "stdout",
     "output_type": "stream",
     "text": [
      "Section split from -10 to 10 : [(-10, 2.4514162296451363), (2.4514162296451363, 4.21525043702153), (4.21525043702153, 10)]\n",
      "Roots from [-10, 10]: [2.0, 3.0000000000000027, 5.0]\n",
      "Min value and argmin at [2, 10]: (-2.1126117909223723, 4.21525043702153)\n",
      "Min value and argmin at [-10, 10]: (-2340, -10)\n"
     ]
    }
   ],
   "source": [
    "# (x - 5)(x - 3)(x - 2)\n",
    "p = Polinomial([-30, 31, -10, 1])\n",
    "p.plot(0, 5)\n",
    "print(f'Section split from -10 to 10 : {split_section(p, -10, 10)}')\n",
    "print(f'Roots from [-10, 10]: {find_roots(p, -10, 10, 1e-20)}')\n",
    "print(f'Min value and argmin at [2, 10]: {find_minima(p, 2, 10)}')\n",
    "print(f'Min value and argmin at [-10, 10]: {find_minima(p, -10, 10)}')"
   ]
  },
  {
   "cell_type": "code",
   "execution_count": 144,
   "metadata": {},
   "outputs": [
    {
     "data": {
      "image/png": "[encoded data removed]",
      "text/plain": [
       "<Figure size 576x360 with 1 Axes>"
      ]
     },
     "metadata": {
      "needs_background": "light"
     },
     "output_type": "display_data"
    },
    {
     "name": "stdout",
     "output_type": "stream",
     "text": [
      "[(-10, -3.456385166537772), (-3.456385166537772, 0.48720443200795194), (0.48720443200795194, 2.969180638411098), (2.969180638411098, 10)]\n",
      "[-5.0, -8.552106400880146e-17, 1.0, 4.0]\n",
      "Min value and argmin at [-10, 10]: (-177.2850563435645, -3.456385166537772)\n"
     ]
    }
   ],
   "source": [
    "# (x + 5)(x - 4)(x - 1)x\n",
    "# 20 x - 21 x^2 + x^4\n",
    "p = Polinomial([0, 20, -21, 0, 1])\n",
    "p.plot(-6, 5)\n",
    "print(split_section(p, -10, 10))\n",
    "print(find_roots(p, -10, 10, 1e-15))\n",
    "print(f'Min value and argmin at [-10, 10]: {find_minima(p, -10, 10)}')"
   ]
  },
  {
   "cell_type": "markdown",
   "metadata": {},
   "source": [
    "# Задание 1"
   ]
  },
  {
   "cell_type": "code",
   "execution_count": 165,
   "metadata": {},
   "outputs": [],
   "source": [
    "import math\n",
    "def newton(f, df, x0, max_iteration=10000, tolerance = 1e-7, epsilon = 1e-14):\n",
    "    x1 = 0\n",
    "    for _ in range(max_iteration):\n",
    "        y = f(x0)\n",
    "        ydx = df(x0)\n",
    "\n",
    "        if abs(ydx) < epsilon:\n",
    "            break\n",
    "\n",
    "        x0 = x0 - y / ydx\n",
    "        if abs(f(x0)) <= tolerance:\n",
    "            return x0\n",
    "    # Can't reach the solution\n",
    "    assert(False)\n",
    "    \n",
    "def newton_ak(a: float, k: int):\n",
    "    # x^0 - a ?\n",
    "    assert k != 0\n",
    "    # x^k + a ?\n",
    "    assert a >= 0\n",
    "    if k == 1 or a == 0 or a == 1:\n",
    "        # 0^0 == 0\n",
    "        return a\n",
    "    # x^(-k) - 0 ?\n",
    "    assert k >= 0 or a != 0\n",
    "    if k < 0:\n",
    "        return newton_ak(1 / a, -k)\n",
    "    if k < 1:\n",
    "        floor = math.floor(1 / k)\n",
    "        q = 1 / k - floor\n",
    "        # We can find a^(int) without newton, right?\n",
    "        return (a ** floor) * newton_ak(a, q)\n",
    "    x0 = a\n",
    "    f = lambda x: x ** k - a\n",
    "    df = lambda x: k * (x ** (k - 1))\n",
    "    return newton(f, df, x0)\n",
    "\n",
    "def bisection_ak(a: float, k: int):\n",
    "    # Taken from task 2\n",
    "    return bisection(lambda x: x ** k - a, 0, a + 1)"
   ]
  },
  {
   "cell_type": "code",
   "execution_count": 168,
   "metadata": {},
   "outputs": [],
   "source": [
    "for a in range(1, 100):\n",
    "    for k in range(1, 100):\n",
    "        assert(close(newton_ak(a, k), a ** (1/k), eps=1e-6))\n",
    "        assert(close(bisection_ak(a, k), a ** (1/k), eps=1e-6))"
   ]
  },
  {
   "cell_type": "markdown",
   "metadata": {},
   "source": [
    "# Задание 3"
   ]
  },
  {
   "cell_type": "code",
   "execution_count": 195,
   "metadata": {},
   "outputs": [],
   "source": [
    "# a, b, c > 0 => Нетрудно проверить, что f'' >= 0 и функция выпуклая\n",
    "# Достаточно найти корень производной\n",
    "def get_fs(a, b, c, d):\n",
    "    f = lambda x: np.exp(a * x) + np.exp(-b*x) + c * ((x - d) ** 2)\n",
    "    df = lambda x: a * np.exp(a * x) - b * np.exp(-b * x) + 2 * c * (x - d)\n",
    "    ddf = lambda x: a * a * np.exp(a * x) + b * b * np.exp(-b * x) + 2 * c\n",
    "    return f, df, ddf"
   ]
  },
  {
   "cell_type": "code",
   "execution_count": 186,
   "metadata": {},
   "outputs": [],
   "source": [
    "def min_newton(a, b, c, d, eps):\n",
    "    x0 = (a + b + c + d) / 4\n",
    "    _, df, ddf = get_fs(a, b, c, d)\n",
    "    # Newton from task 1\n",
    "    return newton(df, ddf, x0, tolerance=eps)"
   ]
  },
  {
   "cell_type": "code",
   "execution_count": 207,
   "metadata": {},
   "outputs": [],
   "source": [
    "def min_bisection(a, b, c, d, eps):\n",
    "    _, df, ddf = get_fs(a, b, c, d)\n",
    "    bound = max(abs(a), abs(b), abs(c), abs(d), 2) * 10\n",
    "    return bisection(df, -bound, bound, eps)"
   ]
  },
  {
   "cell_type": "code",
   "execution_count": 213,
   "metadata": {},
   "outputs": [],
   "source": [
    "def ternary_search(f, l, r, eps):\n",
    "    assert l < r\n",
    "    while(r - l > eps):\n",
    "        m1 = l + (r - l) / 3\n",
    "        m2 = l + 2 * (r - l) / 3\n",
    "        if f(m1) < f(m2):\n",
    "            r = m2\n",
    "        else:\n",
    "            l = m1\n",
    "    return (l + r) / 2\n",
    "def min_ternary(a, b, c, d, eps):\n",
    "    f, _, _ = get_fs(a, b, c, d)\n",
    "    bound = max(abs(a), abs(b), abs(c), abs(d), 2) * 10\n",
    "    return ternary_search(f, -bound, bound, eps)"
   ]
  },
  {
   "cell_type": "code",
   "execution_count": 220,
   "metadata": {},
   "outputs": [
    {
     "name": "stdout",
     "output_type": "stream",
     "text": [
      "2.315283729985808\n",
      "2.3152837296947837\n",
      "2.315283747486209\n"
     ]
    }
   ],
   "source": [
    "eps = 1e-9\n",
    "print(min_newton(1, 2, 3, 4, eps))\n",
    "print(min_bisection(1, 2, 3, 4, eps))\n",
    "print(min_ternary(1, 2, 3, 4, eps))"
   ]
  }
 ],
 "metadata": {
  "kernelspec": {
   "display_name": "Python 3",
   "language": "python",
   "name": "python3"
  },
  "language_info": {
   "codemirror_mode": {
    "name": "ipython",
    "version": 3
   },
   "file_extension": ".py",
   "mimetype": "text/x-python",
   "name": "python",
   "nbconvert_exporter": "python",
   "pygments_lexer": "ipython3",
   "version": "3.8.3"
  }
 },
 "nbformat": 4,
 "nbformat_minor": 4
}
